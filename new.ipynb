{
 "cells": [
  {
   "cell_type": "code",
   "execution_count": 164,
   "metadata": {},
   "outputs": [],
   "source": [
    "# Data manipulation libraries\n",
    "import pandas as pd\n",
    "import numpy as np\n",
    "import yfinance as yf\n",
    "import pandas_datareader as pdr\n",
    "\n",
    "# Machine learning libraries\n",
    "from sklearn.svm import SVC\n",
    "from sklearn.preprocessing import StandardScaler\n",
    "from sklearn.linear_model import LinearRegression\n",
    "from sklearn.impute import SimpleImputer\n",
    "from sklearn.model_selection import RandomizedSearchCV\n",
    "from sklearn.model_selection import TimeSeriesSplit\n",
    "from sklearn.pipeline import Pipeline\n",
    "from sklearn.model_selection import GridSearchCV\n",
    "from sklearn.metrics import confusion_matrix\n",
    "from sklearn.metrics import classification_report\n",
    "from alpha_vantage.timeseries import TimeSeries\n",
    "# Technical indicator library\n",
    "import talib as ta\n",
    "\n",
    "# Plotting libraries\n",
    "import matplotlib.pyplot as plt\n",
    "import seaborn as sns\n",
    "from matplotlib.dates import DateFormatter\n",
    "import matplotlib.dates as mdates\n",
    "\n",
    "# Ignore warnings\n",
    "import warnings\n",
    "warnings.filterwarnings(\"ignore\")"
   ]
  },
  {
   "cell_type": "markdown",
   "metadata": {},
   "source": [
    "# Alphavantage"
   ]
  },
  {
   "cell_type": "code",
   "execution_count": 3,
   "metadata": {},
   "outputs": [],
   "source": [
    "app = TimeSeries('Y6J6TX17SSPPJALQ', output_format='pandas')"
   ]
  },
  {
   "cell_type": "markdown",
   "metadata": {},
   "source": [
    "***"
   ]
  },
  {
   "cell_type": "code",
   "execution_count": 149,
   "metadata": {},
   "outputs": [],
   "source": [
    "def get_finance_data(stock):\n",
    "    s = yf.Ticker(stock)\n",
    "    \n",
    "    df = s.history(start = '2019-10-17', end='2021-10-17', interval = \"1D\")\n",
    "    df = df.drop(['Dividends', 'Stock Splits'], axis=1)\n",
    "\n",
    "\n",
    "    return df"
   ]
  },
  {
   "cell_type": "code",
   "execution_count": 150,
   "metadata": {},
   "outputs": [],
   "source": [
    "aapl = get_finance_data('AAPL')"
   ]
  },
  {
   "cell_type": "code",
   "execution_count": 151,
   "metadata": {},
   "outputs": [
    {
     "data": {
      "text/html": [
       "<div>\n",
       "<style scoped>\n",
       "    .dataframe tbody tr th:only-of-type {\n",
       "        vertical-align: middle;\n",
       "    }\n",
       "\n",
       "    .dataframe tbody tr th {\n",
       "        vertical-align: top;\n",
       "    }\n",
       "\n",
       "    .dataframe thead th {\n",
       "        text-align: right;\n",
       "    }\n",
       "</style>\n",
       "<table border=\"1\" class=\"dataframe\">\n",
       "  <thead>\n",
       "    <tr style=\"text-align: right;\">\n",
       "      <th></th>\n",
       "      <th>Open</th>\n",
       "      <th>High</th>\n",
       "      <th>Low</th>\n",
       "      <th>Close</th>\n",
       "      <th>Volume</th>\n",
       "    </tr>\n",
       "    <tr>\n",
       "      <th>Date</th>\n",
       "      <th></th>\n",
       "      <th></th>\n",
       "      <th></th>\n",
       "      <th></th>\n",
       "      <th></th>\n",
       "    </tr>\n",
       "  </thead>\n",
       "  <tbody>\n",
       "    <tr>\n",
       "      <th>2019-10-17</th>\n",
       "      <td>57.823189</td>\n",
       "      <td>58.083908</td>\n",
       "      <td>57.437031</td>\n",
       "      <td>57.869923</td>\n",
       "      <td>67585200</td>\n",
       "    </tr>\n",
       "    <tr>\n",
       "      <th>2019-10-18</th>\n",
       "      <td>57.700209</td>\n",
       "      <td>58.435636</td>\n",
       "      <td>57.626420</td>\n",
       "      <td>58.147861</td>\n",
       "      <td>97433600</td>\n",
       "    </tr>\n",
       "    <tr>\n",
       "      <th>2019-10-21</th>\n",
       "      <td>58.420876</td>\n",
       "      <td>59.274364</td>\n",
       "      <td>58.371684</td>\n",
       "      <td>59.156300</td>\n",
       "      <td>87247200</td>\n",
       "    </tr>\n",
       "    <tr>\n",
       "      <th>2019-10-22</th>\n",
       "      <td>59.316173</td>\n",
       "      <td>59.571971</td>\n",
       "      <td>58.937389</td>\n",
       "      <td>59.021019</td>\n",
       "      <td>82293600</td>\n",
       "    </tr>\n",
       "    <tr>\n",
       "      <th>2019-10-23</th>\n",
       "      <td>59.547379</td>\n",
       "      <td>59.827776</td>\n",
       "      <td>59.330932</td>\n",
       "      <td>59.813015</td>\n",
       "      <td>75828800</td>\n",
       "    </tr>\n",
       "    <tr>\n",
       "      <th>...</th>\n",
       "      <td>...</td>\n",
       "      <td>...</td>\n",
       "      <td>...</td>\n",
       "      <td>...</td>\n",
       "      <td>...</td>\n",
       "    </tr>\n",
       "    <tr>\n",
       "      <th>2021-10-11</th>\n",
       "      <td>142.270004</td>\n",
       "      <td>144.809998</td>\n",
       "      <td>141.809998</td>\n",
       "      <td>142.809998</td>\n",
       "      <td>64452200</td>\n",
       "    </tr>\n",
       "    <tr>\n",
       "      <th>2021-10-12</th>\n",
       "      <td>143.229996</td>\n",
       "      <td>143.250000</td>\n",
       "      <td>141.039993</td>\n",
       "      <td>141.509995</td>\n",
       "      <td>73035900</td>\n",
       "    </tr>\n",
       "    <tr>\n",
       "      <th>2021-10-13</th>\n",
       "      <td>141.240005</td>\n",
       "      <td>141.399994</td>\n",
       "      <td>139.199997</td>\n",
       "      <td>140.910004</td>\n",
       "      <td>78762700</td>\n",
       "    </tr>\n",
       "    <tr>\n",
       "      <th>2021-10-14</th>\n",
       "      <td>142.110001</td>\n",
       "      <td>143.880005</td>\n",
       "      <td>141.509995</td>\n",
       "      <td>143.759995</td>\n",
       "      <td>69907100</td>\n",
       "    </tr>\n",
       "    <tr>\n",
       "      <th>2021-10-15</th>\n",
       "      <td>143.770004</td>\n",
       "      <td>144.899994</td>\n",
       "      <td>143.509995</td>\n",
       "      <td>144.839996</td>\n",
       "      <td>67885200</td>\n",
       "    </tr>\n",
       "  </tbody>\n",
       "</table>\n",
       "<p>504 rows × 5 columns</p>\n",
       "</div>"
      ],
      "text/plain": [
       "                  Open        High         Low       Close    Volume\n",
       "Date                                                                \n",
       "2019-10-17   57.823189   58.083908   57.437031   57.869923  67585200\n",
       "2019-10-18   57.700209   58.435636   57.626420   58.147861  97433600\n",
       "2019-10-21   58.420876   59.274364   58.371684   59.156300  87247200\n",
       "2019-10-22   59.316173   59.571971   58.937389   59.021019  82293600\n",
       "2019-10-23   59.547379   59.827776   59.330932   59.813015  75828800\n",
       "...                ...         ...         ...         ...       ...\n",
       "2021-10-11  142.270004  144.809998  141.809998  142.809998  64452200\n",
       "2021-10-12  143.229996  143.250000  141.039993  141.509995  73035900\n",
       "2021-10-13  141.240005  141.399994  139.199997  140.910004  78762700\n",
       "2021-10-14  142.110001  143.880005  141.509995  143.759995  69907100\n",
       "2021-10-15  143.770004  144.899994  143.509995  144.839996  67885200\n",
       "\n",
       "[504 rows x 5 columns]"
      ]
     },
     "execution_count": 151,
     "metadata": {},
     "output_type": "execute_result"
    }
   ],
   "source": [
    "aapl"
   ]
  },
  {
   "cell_type": "code",
   "execution_count": 120,
   "metadata": {},
   "outputs": [],
   "source": [
    "n = 10"
   ]
  },
  {
   "cell_type": "code",
   "execution_count": 121,
   "metadata": {},
   "outputs": [],
   "source": [
    "aapl['RSI'] = ta.RSI(np.array(aapl['Close'].shift(1)), timeperiod=n)"
   ]
  },
  {
   "cell_type": "code",
   "execution_count": 122,
   "metadata": {},
   "outputs": [],
   "source": [
    "aapl['SMA'] = aapl['Close'].shift(1).rolling(window=n).mean()\n",
    "\n",
    "# Create a column by name, Corr and assign the calculation of correlation to it\n",
    "aapl['Corr'] = aapl['Close'].shift(1).rolling(window=n).corr(aapl['SMA'].shift(1))"
   ]
  },
  {
   "cell_type": "code",
   "execution_count": 123,
   "metadata": {},
   "outputs": [],
   "source": [
    "# Create a column by name, SAR and assign the SAR calculation to it\n",
    "aapl['SAR'] = ta.SAR(np.array(aapl['High'].shift(1)), np.array(aapl['Low'].shift(1)),\n",
    "                   0.2, 0.2)\n",
    "\n",
    "# Create a column by name, ADX and assign the ADX calculation to it\n",
    "aapl['ADX'] = ta.ADX(np.array(aapl['High'].shift(1)), np.array(aapl['Low'].shift(1)),\n",
    "                   np.array(aapl['Open']), timeperiod=n)"
   ]
  },
  {
   "cell_type": "code",
   "execution_count": 124,
   "metadata": {},
   "outputs": [],
   "source": [
    "# Create columns high, low and close with previous minute's OHLC data\n",
    "aapl['Prev_High'] = aapl['High'].shift(1)\n",
    "aapl['Prev_Low'] = aapl['Low'].shift(1)\n",
    "aapl['Prev_Close'] = aapl['Close'].shift(1)"
   ]
  },
  {
   "cell_type": "code",
   "execution_count": 125,
   "metadata": {},
   "outputs": [],
   "source": [
    "# Create columns 'OO' with the difference between the current minute's open and last minute's open\n",
    "aapl['OO'] = aapl['Open']-aapl['Open'].shift(1)\n",
    "\n",
    "# Create columns 'OC' with the difference between the current minute's open and last minute's close\n",
    "aapl['OC'] = aapl['Open']-aapl['Prev_Close']"
   ]
  },
  {
   "cell_type": "code",
   "execution_count": 126,
   "metadata": {},
   "outputs": [],
   "source": [
    "# Create a column 'Fut_Ret' with the calculation of returns\n",
    "aapl['Fut_Ret'] = (aapl['Open'].shift(-1)-aapl['Open'])/aapl['Open']\n",
    "\n",
    "# Create n columns and assign\n",
    "for i in range(1, n):\n",
    "    aapl['return%i' % i] = aapl['Fut_Ret'].shift(i)"
   ]
  },
  {
   "cell_type": "code",
   "execution_count": 127,
   "metadata": {},
   "outputs": [],
   "source": [
    "# Change the value of 'Corr' to -1 if it is less than -1\n",
    "aapl.loc[aapl['Corr'] < -1, 'Corr'] = -1\n",
    "\n",
    "# Change the value of 'Corr' to 1 if it is greater than 1\n",
    "aapl.loc[aapl['Corr'] > 1, 'Corr'] = 1\n",
    "\n",
    "# Drop the NaN values\n",
    "Df = aapl.dropna()"
   ]
  },
  {
   "cell_type": "code",
   "execution_count": 128,
   "metadata": {},
   "outputs": [
    {
     "data": {
      "text/plain": [
       "295"
      ]
     },
     "execution_count": 128,
     "metadata": {},
     "output_type": "execute_result"
    }
   ],
   "source": [
    "# Create a variable split that stores 80% of the length of the dataframe\n",
    "t = .8\n",
    "split = int(t*len(Df))\n",
    "split"
   ]
  },
  {
   "cell_type": "code",
   "execution_count": 129,
   "metadata": {},
   "outputs": [],
   "source": [
    "# Create a column by name, 'Signal' and initialize with 0\n",
    "Df['Signal'] = 0\n",
    "\n",
    "# Assign a value of 1 to 'Signal' column for the quantile with the highest returns\n",
    "Df.loc[Df['Fut_Ret'] > Df['Fut_Ret'][:split].quantile(q=0.66), 'Signal'] = 1\n",
    "\n",
    "# Assign a value of -1 to 'Signal' column for the quantile with the lowest returns\n",
    "Df.loc[Df['Fut_Ret'] < Df['Fut_Ret'][:split].quantile(q=0.34), 'Signal'] = -1"
   ]
  },
  {
   "cell_type": "code",
   "execution_count": 130,
   "metadata": {},
   "outputs": [],
   "source": [
    "# Assign a value of 0 to 'Signal' column at 1529 time\n",
    "Df.loc[(Df.index.hour == 16) & (Df.index.minute == 00), 'Signal'] = 0\n",
    "\n",
    "# Assign a value of 0 to 'Fut_Ret' column at 1529 time\n",
    "Df.loc[(Df.index.hour == 16) & (Df.index.minute == 00), 'Fut_Ret'] = 0"
   ]
  },
  {
   "cell_type": "code",
   "execution_count": 131,
   "metadata": {},
   "outputs": [],
   "source": [
    "# Use drop method to drop the columns\n",
    "X = Df.drop(['Close', 'Signal', 'High',\n",
    "             'Low', 'Volume', 'Fut_Ret'], axis=1)\n",
    "\n",
    "# Create a variable which contains all the 'Signal' values\n",
    "y = Df['Signal']"
   ]
  },
  {
   "cell_type": "code",
   "execution_count": 132,
   "metadata": {},
   "outputs": [],
   "source": [
    "# Create the 'steps' variable with the pipeline functions\n",
    "steps = [('scaler', StandardScaler()), ('svc', SVC())]\n",
    "\n",
    "# Pass the 'steps' to the Pipeline function\n",
    "pipeline = Pipeline(steps)"
   ]
  },
  {
   "cell_type": "code",
   "execution_count": 133,
   "metadata": {},
   "outputs": [],
   "source": [
    "# Test variables for 'c' and 'g'\n",
    "c = [10, 100, 1000, 10000]\n",
    "g = [1e-2, 1e-1, 1e0]"
   ]
  },
  {
   "cell_type": "code",
   "execution_count": 134,
   "metadata": {},
   "outputs": [],
   "source": [
    "# Intialise the parameters\n",
    "parameters = {'svc__C': c,\n",
    "              'svc__gamma': g,\n",
    "              'svc__kernel': ['rbf']\n",
    "              }"
   ]
  },
  {
   "cell_type": "code",
   "execution_count": 135,
   "metadata": {},
   "outputs": [],
   "source": [
    "# Call the RandomizedSearchCV function and pass the parameters\n",
    "rcv = RandomizedSearchCV(pipeline, parameters, cv=TimeSeriesSplit(n_splits=2))"
   ]
  },
  {
   "cell_type": "code",
   "execution_count": 136,
   "metadata": {},
   "outputs": [],
   "source": [
    "# Call the 'fit' method of rcv and pass the train data to it\n",
    "rcv.fit(X.iloc[:split], y.iloc[:split])\n",
    "\n",
    "# Call the 'best_params_' method to obtain the best parameters of C\n",
    "best_C = rcv.best_params_['svc__C']\n",
    "\n",
    "# Call the 'best_params_' method to obtain the best parameters of kernel\n",
    "best_kernel = rcv.best_params_['svc__kernel']\n",
    "\n",
    "# Call the 'best_params_' method to obtain the best parameters of gamma\n",
    "best_gamma = rcv.best_params_['svc__gamma']"
   ]
  },
  {
   "cell_type": "code",
   "execution_count": 137,
   "metadata": {},
   "outputs": [],
   "source": [
    "# Create a new SVC classifier\n",
    "cls = SVC(C=best_C, kernel=best_kernel, gamma=best_gamma)"
   ]
  },
  {
   "cell_type": "code",
   "execution_count": 138,
   "metadata": {},
   "outputs": [],
   "source": [
    "# Instantiate the StandardScaler\n",
    "ss1 = StandardScaler()"
   ]
  },
  {
   "cell_type": "code",
   "execution_count": 139,
   "metadata": {},
   "outputs": [
    {
     "data": {
      "text/plain": [
       "SVC(C=100, gamma=0.01)"
      ]
     },
     "execution_count": 139,
     "metadata": {},
     "output_type": "execute_result"
    }
   ],
   "source": [
    "# Pass the scaled train data to the SVC classifier\n",
    "cls.fit(ss1.fit_transform(X.iloc[:split]), y.iloc[:split])"
   ]
  },
  {
   "cell_type": "code",
   "execution_count": 140,
   "metadata": {},
   "outputs": [],
   "source": [
    "# Pass the test data to the predict function and store the values into 'y_predict'\n",
    "y_predict = cls.predict(ss1.transform(X.iloc[split:]))\n",
    "\n",
    "# Initiate a column by name, 'Pred_Signal' and assign 0 to it\n",
    "Df['Pred_Signal'] = 0"
   ]
  },
  {
   "cell_type": "code",
   "execution_count": 141,
   "metadata": {},
   "outputs": [],
   "source": [
    "# Save the predicted values for the train data\n",
    "Df.iloc[:split, Df.columns.get_loc('Pred_Signal')] = pd.Series(\n",
    "    cls.predict(ss1.transform(X.iloc[:split])).tolist())\n",
    "\n",
    "# Save the predicted values for the test data\n",
    "Df.iloc[split:, Df.columns.get_loc('Pred_Signal')] = y_predict"
   ]
  },
  {
   "cell_type": "code",
   "execution_count": 142,
   "metadata": {},
   "outputs": [],
   "source": [
    "# Calculate strategy returns and store them in 'Ret1' column\n",
    "Df['Ret1'] = Df['Fut_Ret']*Df['Pred_Signal']"
   ]
  },
  {
   "cell_type": "code",
   "execution_count": 143,
   "metadata": {},
   "outputs": [
    {
     "data": {
      "text/plain": [
       "array([[ 8,  2,  9],\n",
       "       [15,  1, 12],\n",
       "       [ 9,  2, 16]], dtype=int64)"
      ]
     },
     "execution_count": 143,
     "metadata": {},
     "output_type": "execute_result"
    }
   ],
   "source": [
    "# Calculate the confusion matrix\n",
    "cm = confusion_matrix(y[split:], y_predict)\n",
    "cm"
   ]
  },
  {
   "cell_type": "code",
   "execution_count": 144,
   "metadata": {},
   "outputs": [
    {
     "data": {
      "image/png": "[encoded data removed]",
      "text/plain": [
       "<Figure size 432x288 with 2 Axes>"
      ]
     },
     "metadata": {
      "needs_background": "light"
     },
     "output_type": "display_data"
    }
   ],
   "source": [
    "# Set the font sizes\n",
    "plt.title('Confusion Matrix', fontsize=16)\n",
    "plt.xlabel('Predicted labels', fontsize=14)\n",
    "plt.ylabel('True labels', fontsize=14)\n",
    "plt.xticks(fontsize=14)\n",
    "plt.yticks(fontsize=14)\n",
    "plt.rcParams.update({'font.size': 14})\n",
    "\n",
    "# Plot the confusion matrix\n",
    "ax = plt.subplot()\n",
    "sns.heatmap(cm, annot=True, ax=ax)\n",
    "\n",
    "# Set the axis labels\n",
    "ax.xaxis.set_ticklabels(['-1', '0', '1'])\n",
    "ax.yaxis.set_ticklabels(['-1', '0', '1'])\n",
    "plt.show()"
   ]
  },
  {
   "cell_type": "code",
   "execution_count": 145,
   "metadata": {},
   "outputs": [
    {
     "name": "stdout",
     "output_type": "stream",
     "text": [
      "              precision    recall  f1-score   support\n",
      "\n",
      "          -1       0.25      0.42      0.31        19\n",
      "           0       0.20      0.04      0.06        28\n",
      "           1       0.43      0.59      0.50        27\n",
      "\n",
      "    accuracy                           0.34        74\n",
      "   macro avg       0.29      0.35      0.29        74\n",
      "weighted avg       0.30      0.34      0.29        74\n",
      "\n"
     ]
    }
   ],
   "source": [
    "# Calculate the classification report\n",
    "cr = classification_report(y[split:], y_predict)\n",
    "print(cr)"
   ]
  },
  {
   "cell_type": "code",
   "execution_count": 146,
   "metadata": {},
   "outputs": [
    {
     "data": {
      "image/png": "[encoded data removed]",
      "text/plain": [
       "<Figure size 720x504 with 1 Axes>"
      ]
     },
     "metadata": {
      "needs_background": "light"
     },
     "output_type": "display_data"
    },
    {
     "name": "stdout",
     "output_type": "stream",
     "text": [
      "The maximum drawdown is -0.25%\n"
     ]
    }
   ],
   "source": [
    "\"\"\"\n",
    "The drawdown metrics and plotting is performed here\n",
    "\"\"\"\n",
    "# Calculate the cumulative returns\n",
    "cum_rets = (Df['Ret1'][split:]+1).cumprod()\n",
    "\n",
    "# Calculate the running maximum\n",
    "running_max = np.maximum.accumulate(cum_rets.dropna())\n",
    "\n",
    "# Ensure the value never drops below 1\n",
    "running_max[running_max < 1] = 1\n",
    "\n",
    "# Calculate the percentage drawdown\n",
    "drawdown = (cum_rets)/running_max - 1\n",
    "drawdown.index = cum_rets.index\n",
    "\n",
    "# Calculate the maximum drawdown\n",
    "max_dd = drawdown.min()*100\n",
    "\n",
    "# Plot the drawdown\n",
    "fig, ax = plt.subplots(figsize=(10, 7))\n",
    "ax.plot(drawdown, color='r')\n",
    "ax.fill_between(drawdown.index, drawdown.values, color='red')\n",
    "ax.xaxis.set_major_formatter(mdates.DateFormatter(\"%H:%M:%S\"))\n",
    "ax.xaxis.set_minor_formatter(mdates.DateFormatter(\"%H:%M:%S\"))\n",
    "\n",
    "# Set the font sizes\n",
    "_ = plt.xticks(rotation=45)\n",
    "plt.title('Drawdown for the predicted returns', fontsize=14)\n",
    "plt.xlabel('Time', fontsize=12)\n",
    "plt.ylabel('Drawdown', fontsize=12)\n",
    "plt.xticks(fontsize=12)\n",
    "plt.yticks(fontsize=12)\n",
    "ax.legend(labels=[\"Drawdown\"], prop={'size': 10}, loc=\"lower right\")\n",
    "\n",
    "# Display the plot\n",
    "plt.show()\n",
    "print(\"The maximum drawdown is %.2f\" % max_dd+\"%\")"
   ]
  },
  {
   "cell_type": "code",
   "execution_count": 147,
   "metadata": {},
   "outputs": [
    {
     "name": "stdout",
     "output_type": "stream",
     "text": [
      "The annualised Sharpe ratio is 29.93\n"
     ]
    }
   ],
   "source": [
    "# Calculate the annualised Sharpe ratio\n",
    "sharpe = np.sqrt(252*6.25*60) * \\\n",
    "    Df['Ret1'][split:].mean() / Df['Ret1'][split:].std()\n",
    "\n",
    "print(\"The annualised Sharpe ratio is %.2f\" % sharpe)"
   ]
  },
  {
   "cell_type": "code",
   "execution_count": 148,
   "metadata": {},
   "outputs": [
    {
     "data": {
      "image/png": "[encoded data removed]",
      "text/plain": [
       "<Figure size 720x504 with 1 Axes>"
      ]
     },
     "metadata": {
      "needs_background": "light"
     },
     "output_type": "display_data"
    },
    {
     "name": "stdout",
     "output_type": "stream",
     "text": [
      "The strategy return is 0.24%\n"
     ]
    }
   ],
   "source": [
    "# Plotting the returns\n",
    "fig, ax = plt.subplots(figsize=(10, 7))\n",
    "ax.plot((Df['Fut_Ret'][split:]+1).cumprod())\n",
    "ax.plot((Df['Ret1'][split:]+1).cumprod())\n",
    "ax.xaxis.set_major_formatter(mdates.DateFormatter(\"%H:%M:%S\"))\n",
    "ax.xaxis.set_minor_formatter(mdates.DateFormatter(\"%H:%M:%S\"))\n",
    "_ = plt.xticks(rotation=45)\n",
    "\n",
    "# Setting the labels and font sizes\n",
    "plt.title('Strategy Returns vs Market Returns', fontsize=14)\n",
    "plt.xlabel('Time', fontsize=12)\n",
    "plt.ylabel('Cumulative Returns', fontsize=12)\n",
    "plt.xticks(fontsize=12)\n",
    "plt.yticks(fontsize=12)\n",
    "ax.legend(labels=[\"Market Returns\", \"Strategy Returns\"],\n",
    "          prop={'size': 10}, loc=\"upper left\")\n",
    "plt.show()\n",
    "\n",
    "\n",
    "return_strategy = ((Df['Ret1'][split:]+1).cumprod().tail(1)[0]-1)*100\n",
    "print(\"The strategy return is %.2f\" % return_strategy + \"%\")"
   ]
  },
  {
   "cell_type": "markdown",
   "metadata": {},
   "source": [
    "## Linear Regression"
   ]
  },
  {
   "cell_type": "code",
   "execution_count": 154,
   "metadata": {},
   "outputs": [
    {
     "data": {
      "text/html": [
       "<div>\n",
       "<style scoped>\n",
       "    .dataframe tbody tr th:only-of-type {\n",
       "        vertical-align: middle;\n",
       "    }\n",
       "\n",
       "    .dataframe tbody tr th {\n",
       "        vertical-align: top;\n",
       "    }\n",
       "\n",
       "    .dataframe thead th {\n",
       "        text-align: right;\n",
       "    }\n",
       "</style>\n",
       "<table border=\"1\" class=\"dataframe\">\n",
       "  <thead>\n",
       "    <tr style=\"text-align: right;\">\n",
       "      <th></th>\n",
       "      <th>Open</th>\n",
       "      <th>High</th>\n",
       "      <th>Low</th>\n",
       "      <th>Close</th>\n",
       "      <th>Volume</th>\n",
       "      <th>S_3</th>\n",
       "      <th>S_15</th>\n",
       "      <th>S_60</th>\n",
       "      <th>Corr</th>\n",
       "      <th>Std_U</th>\n",
       "      <th>Std_D</th>\n",
       "      <th>OD</th>\n",
       "      <th>OL</th>\n",
       "    </tr>\n",
       "    <tr>\n",
       "      <th>Date</th>\n",
       "      <th></th>\n",
       "      <th></th>\n",
       "      <th></th>\n",
       "      <th></th>\n",
       "      <th></th>\n",
       "      <th></th>\n",
       "      <th></th>\n",
       "      <th></th>\n",
       "      <th></th>\n",
       "      <th></th>\n",
       "      <th></th>\n",
       "      <th></th>\n",
       "      <th></th>\n",
       "    </tr>\n",
       "  </thead>\n",
       "  <tbody>\n",
       "    <tr>\n",
       "      <th>2021-10-11</th>\n",
       "      <td>142.270004</td>\n",
       "      <td>144.809998</td>\n",
       "      <td>141.809998</td>\n",
       "      <td>142.809998</td>\n",
       "      <td>64452200</td>\n",
       "      <td>142.729996</td>\n",
       "      <td>143.244666</td>\n",
       "      <td>147.168940</td>\n",
       "      <td>0.386200</td>\n",
       "      <td>2.539993</td>\n",
       "      <td>0.460007</td>\n",
       "      <td>-1.759995</td>\n",
       "      <td>-0.629990</td>\n",
       "    </tr>\n",
       "    <tr>\n",
       "      <th>2021-10-12</th>\n",
       "      <td>143.229996</td>\n",
       "      <td>143.250000</td>\n",
       "      <td>141.039993</td>\n",
       "      <td>141.509995</td>\n",
       "      <td>73035900</td>\n",
       "      <td>142.999995</td>\n",
       "      <td>143.235999</td>\n",
       "      <td>147.112923</td>\n",
       "      <td>0.006085</td>\n",
       "      <td>0.020004</td>\n",
       "      <td>2.190002</td>\n",
       "      <td>0.959991</td>\n",
       "      <td>0.419998</td>\n",
       "    </tr>\n",
       "    <tr>\n",
       "      <th>2021-10-13</th>\n",
       "      <td>141.240005</td>\n",
       "      <td>141.399994</td>\n",
       "      <td>139.199997</td>\n",
       "      <td>140.910004</td>\n",
       "      <td>78762700</td>\n",
       "      <td>142.406662</td>\n",
       "      <td>143.107999</td>\n",
       "      <td>147.100808</td>\n",
       "      <td>0.014521</td>\n",
       "      <td>0.159988</td>\n",
       "      <td>2.040009</td>\n",
       "      <td>-1.989990</td>\n",
       "      <td>-0.269989</td>\n",
       "    </tr>\n",
       "    <tr>\n",
       "      <th>2021-10-14</th>\n",
       "      <td>142.110001</td>\n",
       "      <td>143.880005</td>\n",
       "      <td>141.509995</td>\n",
       "      <td>143.759995</td>\n",
       "      <td>69907100</td>\n",
       "      <td>141.743332</td>\n",
       "      <td>142.778665</td>\n",
       "      <td>147.017119</td>\n",
       "      <td>-0.244516</td>\n",
       "      <td>1.770004</td>\n",
       "      <td>0.600006</td>\n",
       "      <td>0.869995</td>\n",
       "      <td>1.199997</td>\n",
       "    </tr>\n",
       "    <tr>\n",
       "      <th>2021-10-15</th>\n",
       "      <td>143.770004</td>\n",
       "      <td>144.899994</td>\n",
       "      <td>143.509995</td>\n",
       "      <td>144.839996</td>\n",
       "      <td>67885200</td>\n",
       "      <td>142.059998</td>\n",
       "      <td>142.573998</td>\n",
       "      <td>146.993411</td>\n",
       "      <td>-0.248504</td>\n",
       "      <td>1.129990</td>\n",
       "      <td>0.260010</td>\n",
       "      <td>1.660004</td>\n",
       "      <td>0.010010</td>\n",
       "    </tr>\n",
       "  </tbody>\n",
       "</table>\n",
       "</div>"
      ],
      "text/plain": [
       "                  Open        High         Low       Close    Volume  \\\n",
       "Date                                                                   \n",
       "2021-10-11  142.270004  144.809998  141.809998  142.809998  64452200   \n",
       "2021-10-12  143.229996  143.250000  141.039993  141.509995  73035900   \n",
       "2021-10-13  141.240005  141.399994  139.199997  140.910004  78762700   \n",
       "2021-10-14  142.110001  143.880005  141.509995  143.759995  69907100   \n",
       "2021-10-15  143.770004  144.899994  143.509995  144.839996  67885200   \n",
       "\n",
       "                   S_3        S_15        S_60      Corr     Std_U     Std_D  \\\n",
       "Date                                                                           \n",
       "2021-10-11  142.729996  143.244666  147.168940  0.386200  2.539993  0.460007   \n",
       "2021-10-12  142.999995  143.235999  147.112923  0.006085  0.020004  2.190002   \n",
       "2021-10-13  142.406662  143.107999  147.100808  0.014521  0.159988  2.040009   \n",
       "2021-10-14  141.743332  142.778665  147.017119 -0.244516  1.770004  0.600006   \n",
       "2021-10-15  142.059998  142.573998  146.993411 -0.248504  1.129990  0.260010   \n",
       "\n",
       "                  OD        OL  \n",
       "Date                            \n",
       "2021-10-11 -1.759995 -0.629990  \n",
       "2021-10-12  0.959991  0.419998  \n",
       "2021-10-13 -1.989990 -0.269989  \n",
       "2021-10-14  0.869995  1.199997  \n",
       "2021-10-15  1.660004  0.010010  "
      ]
     },
     "execution_count": 154,
     "metadata": {},
     "output_type": "execute_result"
    }
   ],
   "source": [
    "# Calculate 3-day moving average of close prices\n",
    "aapl['S_3'] = aapl['Close'].shift(1).rolling(window=3).mean()\n",
    "\n",
    "# Calculate 15-day moving average of close prices\n",
    "aapl['S_15'] = aapl['Close'].shift(1).rolling(window=15).mean()\n",
    "\n",
    "# Calculate 60-day moving average of close prices\n",
    "aapl['S_60'] = aapl['Close'].shift(1).rolling(window=60).mean()\n",
    "\n",
    "# Calculate the correlation between close price and 3 day moving average\n",
    "aapl['Corr'] = aapl['Close'].shift(1).rolling(window=10).corr(aapl['S_3'].shift(1))\n",
    "\n",
    "aapl['Std_U'] = aapl['High']-aapl['Open']\n",
    "aapl['Std_D'] = aapl['Open']-aapl['Low']\n",
    "\n",
    "aapl['OD'] = aapl['Open']-aapl['Open'].shift(1)\n",
    "aapl['OL'] = aapl['Open']-aapl['Close'].shift(1)\n",
    "\n",
    "aapl.tail()"
   ]
  },
  {
   "cell_type": "code",
   "execution_count": 156,
   "metadata": {},
   "outputs": [
    {
     "data": {
      "text/html": [
       "<div>\n",
       "<style scoped>\n",
       "    .dataframe tbody tr th:only-of-type {\n",
       "        vertical-align: middle;\n",
       "    }\n",
       "\n",
       "    .dataframe tbody tr th {\n",
       "        vertical-align: top;\n",
       "    }\n",
       "\n",
       "    .dataframe thead th {\n",
       "        text-align: right;\n",
       "    }\n",
       "</style>\n",
       "<table border=\"1\" class=\"dataframe\">\n",
       "  <thead>\n",
       "    <tr style=\"text-align: right;\">\n",
       "      <th></th>\n",
       "      <th>Open</th>\n",
       "      <th>S_3</th>\n",
       "      <th>S_15</th>\n",
       "      <th>S_60</th>\n",
       "      <th>OD</th>\n",
       "      <th>OL</th>\n",
       "      <th>Corr</th>\n",
       "    </tr>\n",
       "    <tr>\n",
       "      <th>Date</th>\n",
       "      <th></th>\n",
       "      <th></th>\n",
       "      <th></th>\n",
       "      <th></th>\n",
       "      <th></th>\n",
       "      <th></th>\n",
       "      <th></th>\n",
       "    </tr>\n",
       "  </thead>\n",
       "  <tbody>\n",
       "    <tr>\n",
       "      <th>2021-10-11</th>\n",
       "      <td>142.270004</td>\n",
       "      <td>142.729996</td>\n",
       "      <td>143.244666</td>\n",
       "      <td>147.168940</td>\n",
       "      <td>-1.759995</td>\n",
       "      <td>-0.629990</td>\n",
       "      <td>0.386200</td>\n",
       "    </tr>\n",
       "    <tr>\n",
       "      <th>2021-10-12</th>\n",
       "      <td>143.229996</td>\n",
       "      <td>142.999995</td>\n",
       "      <td>143.235999</td>\n",
       "      <td>147.112923</td>\n",
       "      <td>0.959991</td>\n",
       "      <td>0.419998</td>\n",
       "      <td>0.006085</td>\n",
       "    </tr>\n",
       "    <tr>\n",
       "      <th>2021-10-13</th>\n",
       "      <td>141.240005</td>\n",
       "      <td>142.406662</td>\n",
       "      <td>143.107999</td>\n",
       "      <td>147.100808</td>\n",
       "      <td>-1.989990</td>\n",
       "      <td>-0.269989</td>\n",
       "      <td>0.014521</td>\n",
       "    </tr>\n",
       "    <tr>\n",
       "      <th>2021-10-14</th>\n",
       "      <td>142.110001</td>\n",
       "      <td>141.743332</td>\n",
       "      <td>142.778665</td>\n",
       "      <td>147.017119</td>\n",
       "      <td>0.869995</td>\n",
       "      <td>1.199997</td>\n",
       "      <td>-0.244516</td>\n",
       "    </tr>\n",
       "    <tr>\n",
       "      <th>2021-10-15</th>\n",
       "      <td>143.770004</td>\n",
       "      <td>142.059998</td>\n",
       "      <td>142.573998</td>\n",
       "      <td>146.993411</td>\n",
       "      <td>1.660004</td>\n",
       "      <td>0.010010</td>\n",
       "      <td>-0.248504</td>\n",
       "    </tr>\n",
       "  </tbody>\n",
       "</table>\n",
       "</div>"
      ],
      "text/plain": [
       "                  Open         S_3        S_15        S_60        OD  \\\n",
       "Date                                                                   \n",
       "2021-10-11  142.270004  142.729996  143.244666  147.168940 -1.759995   \n",
       "2021-10-12  143.229996  142.999995  143.235999  147.112923  0.959991   \n",
       "2021-10-13  141.240005  142.406662  143.107999  147.100808 -1.989990   \n",
       "2021-10-14  142.110001  141.743332  142.778665  147.017119  0.869995   \n",
       "2021-10-15  143.770004  142.059998  142.573998  146.993411  1.660004   \n",
       "\n",
       "                  OL      Corr  \n",
       "Date                            \n",
       "2021-10-11 -0.629990  0.386200  \n",
       "2021-10-12  0.419998  0.006085  \n",
       "2021-10-13 -0.269989  0.014521  \n",
       "2021-10-14  1.199997 -0.244516  \n",
       "2021-10-15  0.010010 -0.248504  "
      ]
     },
     "execution_count": 156,
     "metadata": {},
     "output_type": "execute_result"
    }
   ],
   "source": [
    "X = aapl[['Open', 'S_3', 'S_15', 'S_60', 'OD', 'OL', 'Corr']]\n",
    "X.tail()"
   ]
  },
  {
   "cell_type": "code",
   "execution_count": 157,
   "metadata": {},
   "outputs": [
    {
     "data": {
      "text/plain": [
       "Date\n",
       "2021-10-11    2.539993\n",
       "2021-10-12    0.020004\n",
       "2021-10-13    0.159988\n",
       "2021-10-14    1.770004\n",
       "2021-10-15    1.129990\n",
       "Name: Std_U, dtype: float64"
      ]
     },
     "execution_count": 157,
     "metadata": {},
     "output_type": "execute_result"
    }
   ],
   "source": [
    "yU = aapl['Std_U']\n",
    "yU.tail()"
   ]
  },
  {
   "cell_type": "code",
   "execution_count": 158,
   "metadata": {},
   "outputs": [
    {
     "data": {
      "text/plain": [
       "Date\n",
       "2021-10-11    0.460007\n",
       "2021-10-12    2.190002\n",
       "2021-10-13    2.040009\n",
       "2021-10-14    0.600006\n",
       "2021-10-15    0.260010\n",
       "Name: Std_D, dtype: float64"
      ]
     },
     "execution_count": 158,
     "metadata": {},
     "output_type": "execute_result"
    }
   ],
   "source": [
    "yD = aapl['Std_D']\n",
    "yD.tail()"
   ]
  },
  {
   "cell_type": "code",
   "execution_count": 161,
   "metadata": {},
   "outputs": [],
   "source": [
    "imp = SimpleImputer(missing_values = np.nan, strategy='most_frequent')\n",
    "steps = [('imputation', imp),\n",
    "         ('scaler',StandardScaler()),\n",
    "         ('linear',LinearRegression())]     \n",
    "pipeline = Pipeline(steps)"
   ]
  },
  {
   "cell_type": "code",
   "execution_count": 162,
   "metadata": {},
   "outputs": [],
   "source": [
    "parameters = {'linear__fit_intercept':[0,1]}"
   ]
  },
  {
   "cell_type": "code",
   "execution_count": 165,
   "metadata": {},
   "outputs": [],
   "source": [
    "reg = GridSearchCV(pipeline, parameters, cv=5)"
   ]
  },
  {
   "cell_type": "code",
   "execution_count": 166,
   "metadata": {},
   "outputs": [
    {
     "data": {
      "text/plain": [
       "GridSearchCV(cv=5,\n",
       "             estimator=Pipeline(steps=[('imputation',\n",
       "                                        SimpleImputer(strategy='most_frequent')),\n",
       "                                       ('scaler', StandardScaler()),\n",
       "                                       ('linear', LinearRegression())]),\n",
       "             param_grid={'linear__fit_intercept': [0, 1]})"
      ]
     },
     "execution_count": 166,
     "metadata": {},
     "output_type": "execute_result"
    }
   ],
   "source": [
    "t = .8\n",
    "split = int(t*len(Df))\n",
    "reg.fit(X[:split],yU[:split])"
   ]
  },
  {
   "cell_type": "code",
   "execution_count": 167,
   "metadata": {},
   "outputs": [],
   "source": [
    "best_fit = reg.best_params_['linear__fit_intercept']"
   ]
  },
  {
   "cell_type": "code",
   "execution_count": 168,
   "metadata": {},
   "outputs": [],
   "source": [
    "reg = LinearRegression(fit_intercept=best_fit)"
   ]
  },
  {
   "cell_type": "code",
   "execution_count": 169,
   "metadata": {},
   "outputs": [],
   "source": [
    "X = imp.fit_transform(X,yU)"
   ]
  },
  {
   "cell_type": "code",
   "execution_count": 172,
   "metadata": {},
   "outputs": [],
   "source": [
    "reg.fit(X[:split], yU[:split])\n",
    "yU_predict = reg.predict(X[split:])\n",
    "\n",
    "# Assign the predicted values to a new column in the dataframe\n",
    "aapl.reset_index(inplace=True)\n",
    "aapl['Max_U'] = 0\n",
    "aapl.loc[aapl.index >= split, 'Max_U'] = yU_predict\n",
    "aapl.loc[aapl['Max_U'] < 0, 'Max_U'] = 0"
   ]
  },
  {
   "cell_type": "code",
   "execution_count": 175,
   "metadata": {},
   "outputs": [],
   "source": [
    "reg = GridSearchCV(pipeline, parameters, cv=5)\n",
    "reg.fit(X[:split], yD[:split])\n",
    "best_fit = reg.best_params_['linear__fit_intercept']\n",
    "reg = LinearRegression(fit_intercept=best_fit)\n",
    "X = imp.fit_transform(X, yD)\n",
    "reg.fit(X[:split], yD[:split])\n",
    "yD_predict = reg.predict(X[split:])\n",
    "\n",
    "# Assign the predicted values to a new column in the data frame\n",
    "aapl['Max_D'] = 0\n",
    "aapl.loc[aapl.index >= split, 'Max_D'] = yD_predict\n",
    "aapl.loc[aapl['Max_D'] < 0, 'Max_D'] = 0\n",
    "\n",
    "aapl.set_index('Date', inplace=True)"
   ]
  },
  {
   "cell_type": "code",
   "execution_count": 177,
   "metadata": {},
   "outputs": [
    {
     "data": {
      "text/html": [
       "<div>\n",
       "<style scoped>\n",
       "    .dataframe tbody tr th:only-of-type {\n",
       "        vertical-align: middle;\n",
       "    }\n",
       "\n",
       "    .dataframe tbody tr th {\n",
       "        vertical-align: top;\n",
       "    }\n",
       "\n",
       "    .dataframe thead th {\n",
       "        text-align: right;\n",
       "    }\n",
       "</style>\n",
       "<table border=\"1\" class=\"dataframe\">\n",
       "  <thead>\n",
       "    <tr style=\"text-align: right;\">\n",
       "      <th></th>\n",
       "      <th>High</th>\n",
       "      <th>P_H</th>\n",
       "      <th>Low</th>\n",
       "      <th>P_L</th>\n",
       "    </tr>\n",
       "    <tr>\n",
       "      <th>Date</th>\n",
       "      <th></th>\n",
       "      <th></th>\n",
       "      <th></th>\n",
       "      <th></th>\n",
       "    </tr>\n",
       "  </thead>\n",
       "  <tbody>\n",
       "    <tr>\n",
       "      <th>2021-10-11</th>\n",
       "      <td>144.809998</td>\n",
       "      <td>144.620717</td>\n",
       "      <td>141.809998</td>\n",
       "      <td>140.083625</td>\n",
       "    </tr>\n",
       "    <tr>\n",
       "      <th>2021-10-12</th>\n",
       "      <td>143.250000</td>\n",
       "      <td>145.287355</td>\n",
       "      <td>141.039993</td>\n",
       "      <td>140.911590</td>\n",
       "    </tr>\n",
       "    <tr>\n",
       "      <th>2021-10-13</th>\n",
       "      <td>141.399994</td>\n",
       "      <td>143.590131</td>\n",
       "      <td>139.199997</td>\n",
       "      <td>139.013621</td>\n",
       "    </tr>\n",
       "    <tr>\n",
       "      <th>2021-10-14</th>\n",
       "      <td>143.880005</td>\n",
       "      <td>144.163997</td>\n",
       "      <td>141.509995</td>\n",
       "      <td>139.717892</td>\n",
       "    </tr>\n",
       "    <tr>\n",
       "      <th>2021-10-15</th>\n",
       "      <td>144.899994</td>\n",
       "      <td>145.648493</td>\n",
       "      <td>143.509995</td>\n",
       "      <td>141.539105</td>\n",
       "    </tr>\n",
       "  </tbody>\n",
       "</table>\n",
       "</div>"
      ],
      "text/plain": [
       "                  High         P_H         Low         P_L\n",
       "Date                                                      \n",
       "2021-10-11  144.809998  144.620717  141.809998  140.083625\n",
       "2021-10-12  143.250000  145.287355  141.039993  140.911590\n",
       "2021-10-13  141.399994  143.590131  139.199997  139.013621\n",
       "2021-10-14  143.880005  144.163997  141.509995  139.717892\n",
       "2021-10-15  144.899994  145.648493  143.509995  141.539105"
      ]
     },
     "execution_count": 177,
     "metadata": {},
     "output_type": "execute_result"
    }
   ],
   "source": [
    "# We will use the predicted upside deviation values to calculate the high price\n",
    "aapl['P_H'] = aapl['Open']+aapl['Max_U']\n",
    "aapl['P_L'] = aapl['Open']-aapl['Max_D']\n",
    "\n",
    "aapl[['High', 'P_H', 'Low', 'P_L']].tail()"
   ]
  },
  {
   "cell_type": "code",
   "execution_count": 178,
   "metadata": {},
   "outputs": [],
   "source": [
    "# Trading signal\n",
    "aapl['Signal'] = 0\n",
    "aapl.loc[(aapl['High']>aapl['P_H']) &(aapl['Low']>aapl['P_L']),'Signal'] = -1\n",
    "aapl.loc[(aapl['High']<aapl['P_H']) &(aapl['Low']<aapl['P_L']),'Signal'] = 1\n",
    "\n",
    "# Compute GLD returns \n",
    "aapl['Ret'] = (aapl['Close']-aapl['Close'].shift(1))/aapl['Close'].shift(1)\n",
    "\n",
    "# Compute strategy returns(\n",
    "aapl['Ret1'] = aapl['Ret']*(aapl['Signal'].shift(1))"
   ]
  },
  {
   "cell_type": "code",
   "execution_count": 181,
   "metadata": {},
   "outputs": [
    {
     "data": {
      "image/png": "[encoded data removed]",
      "text/plain": [
       "<Figure size 720x360 with 1 Axes>"
      ]
     },
     "metadata": {
      "needs_background": "light"
     },
     "output_type": "display_data"
    }
   ],
   "source": [
    "plt.figure(figsize=(10,5))\n",
    "plt.plot(((aapl['Ret'][split:]+1).cumprod()),color='r',label='Apple Returns')\n",
    "plt.plot(((aapl['Ret1'][split:]+1).cumprod()),color='g',label='Strategy Returns')\n",
    "plt.legend()\n",
    "plt.show()"
   ]
  },
  {
   "cell_type": "code",
   "execution_count": 180,
   "metadata": {},
   "outputs": [
    {
     "name": "stdout",
     "output_type": "stream",
     "text": [
      "Sharpe -7.870602368419231\n"
     ]
    }
   ],
   "source": [
    "# The below function returns the Sharpe ratio for the excess returns\n",
    "def annualized_sharpe_ratio(returns, N=252):\n",
    "    return np.sqrt(N) * returns.mean() / returns.std()\n",
    "\n",
    "# Calculate the excess daily return by assuming an annual risk free rate of return of 5%\n",
    "excess_daily_strategy_return = Df['Ret1'][split:] - 0.05/252\n",
    "\n",
    "# Calculate the annualized Sharpe ratio\n",
    "sharpe = annualized_sharpe_ratio(excess_daily_strategy_return)\n",
    "print('Sharpe', sharpe)"
   ]
  },
  {
   "cell_type": "code",
   "execution_count": null,
   "metadata": {},
   "outputs": [],
   "source": []
  },
  {
   "cell_type": "code",
   "execution_count": null,
   "metadata": {},
   "outputs": [],
   "source": []
  },
  {
   "cell_type": "code",
   "execution_count": null,
   "metadata": {},
   "outputs": [],
   "source": []
  },
  {
   "cell_type": "code",
   "execution_count": null,
   "metadata": {},
   "outputs": [],
   "source": []
  },
  {
   "cell_type": "code",
   "execution_count": null,
   "metadata": {},
   "outputs": [],
   "source": []
  },
  {
   "cell_type": "code",
   "execution_count": 86,
   "metadata": {},
   "outputs": [
    {
     "data": {
      "image/png": "[encoded data removed]",
      "text/plain": [
       "<Figure size 432x288 with 1 Axes>"
      ]
     },
     "metadata": {
      "needs_background": "light"
     },
     "output_type": "display_data"
    }
   ],
   "source": [
    "plt.plot(aapl['Close'], color='blue')\n",
    "plt.title(\"Daily Close Price\")\n",
    "plt.show()"
   ]
  },
  {
   "cell_type": "code",
   "execution_count": 87,
   "metadata": {},
   "outputs": [
    {
     "data": {
      "image/png": "[encoded data removed]",
      "text/plain": [
       "<Figure size 432x288 with 1 Axes>"
      ]
     },
     "metadata": {
      "needs_background": "light"
     },
     "output_type": "display_data"
    }
   ],
   "source": [
    "\n",
    "aapl['SMA_20'] = ta.SMA(aapl['Close'], timeperiod=20)\n",
    "aapl['SMA_50'] = ta.SMA(aapl['Close'], timeperiod=50)\n",
    "\n",
    "plt.plot(aapl['Close'], color='blue', label='Daily Close Price')\n",
    "plt.plot(aapl['SMA_20'], color='green', label='SMA 20')\n",
    "plt.plot(aapl['SMA_50'], color='red', label='SMA 50')\n",
    "plt.legend()\n",
    "plt.title('Simple Moving Averages')\n",
    "plt.show()"
   ]
  },
  {
   "cell_type": "code",
   "execution_count": 88,
   "metadata": {},
   "outputs": [
    {
     "data": {
      "text/html": [
       "<div>\n",
       "<style scoped>\n",
       "    .dataframe tbody tr th:only-of-type {\n",
       "        vertical-align: middle;\n",
       "    }\n",
       "\n",
       "    .dataframe tbody tr th {\n",
       "        vertical-align: top;\n",
       "    }\n",
       "\n",
       "    .dataframe thead th {\n",
       "        text-align: right;\n",
       "    }\n",
       "</style>\n",
       "<table border=\"1\" class=\"dataframe\">\n",
       "  <thead>\n",
       "    <tr style=\"text-align: right;\">\n",
       "      <th></th>\n",
       "      <th>Open</th>\n",
       "      <th>High</th>\n",
       "      <th>Low</th>\n",
       "      <th>Close</th>\n",
       "      <th>Volume</th>\n",
       "      <th>Dividends</th>\n",
       "      <th>Stock Splits</th>\n",
       "      <th>SMA_20</th>\n",
       "      <th>SMA_50</th>\n",
       "    </tr>\n",
       "    <tr>\n",
       "      <th>Date</th>\n",
       "      <th></th>\n",
       "      <th></th>\n",
       "      <th></th>\n",
       "      <th></th>\n",
       "      <th></th>\n",
       "      <th></th>\n",
       "      <th></th>\n",
       "      <th></th>\n",
       "      <th></th>\n",
       "    </tr>\n",
       "  </thead>\n",
       "  <tbody>\n",
       "    <tr>\n",
       "      <th>2019-01-02</th>\n",
       "      <td>37.645785</td>\n",
       "      <td>38.608258</td>\n",
       "      <td>37.485372</td>\n",
       "      <td>38.382221</td>\n",
       "      <td>148158800</td>\n",
       "      <td>0.0</td>\n",
       "      <td>0.0</td>\n",
       "      <td>NaN</td>\n",
       "      <td>NaN</td>\n",
       "    </tr>\n",
       "    <tr>\n",
       "      <th>2019-01-03</th>\n",
       "      <td>34.994130</td>\n",
       "      <td>35.417035</td>\n",
       "      <td>34.512895</td>\n",
       "      <td>34.559074</td>\n",
       "      <td>365248800</td>\n",
       "      <td>0.0</td>\n",
       "      <td>0.0</td>\n",
       "      <td>NaN</td>\n",
       "      <td>NaN</td>\n",
       "    </tr>\n",
       "    <tr>\n",
       "      <th>2019-01-04</th>\n",
       "      <td>35.127804</td>\n",
       "      <td>36.104860</td>\n",
       "      <td>34.950380</td>\n",
       "      <td>36.034374</td>\n",
       "      <td>234428400</td>\n",
       "      <td>0.0</td>\n",
       "      <td>0.0</td>\n",
       "      <td>NaN</td>\n",
       "      <td>NaN</td>\n",
       "    </tr>\n",
       "    <tr>\n",
       "      <th>2019-01-07</th>\n",
       "      <td>36.141315</td>\n",
       "      <td>36.172912</td>\n",
       "      <td>35.460778</td>\n",
       "      <td>35.954166</td>\n",
       "      <td>219111200</td>\n",
       "      <td>0.0</td>\n",
       "      <td>0.0</td>\n",
       "      <td>NaN</td>\n",
       "      <td>NaN</td>\n",
       "    </tr>\n",
       "    <tr>\n",
       "      <th>2019-01-08</th>\n",
       "      <td>36.350336</td>\n",
       "      <td>36.899628</td>\n",
       "      <td>36.097567</td>\n",
       "      <td>36.639565</td>\n",
       "      <td>164101200</td>\n",
       "      <td>0.0</td>\n",
       "      <td>0.0</td>\n",
       "      <td>NaN</td>\n",
       "      <td>NaN</td>\n",
       "    </tr>\n",
       "    <tr>\n",
       "      <th>...</th>\n",
       "      <td>...</td>\n",
       "      <td>...</td>\n",
       "      <td>...</td>\n",
       "      <td>...</td>\n",
       "      <td>...</td>\n",
       "      <td>...</td>\n",
       "      <td>...</td>\n",
       "      <td>...</td>\n",
       "      <td>...</td>\n",
       "    </tr>\n",
       "    <tr>\n",
       "      <th>2021-10-12</th>\n",
       "      <td>143.229996</td>\n",
       "      <td>143.250000</td>\n",
       "      <td>141.039993</td>\n",
       "      <td>141.509995</td>\n",
       "      <td>73035900</td>\n",
       "      <td>0.0</td>\n",
       "      <td>0.0</td>\n",
       "      <td>143.843498</td>\n",
       "      <td>147.271393</td>\n",
       "    </tr>\n",
       "    <tr>\n",
       "      <th>2021-10-13</th>\n",
       "      <td>141.240005</td>\n",
       "      <td>141.399994</td>\n",
       "      <td>139.199997</td>\n",
       "      <td>140.910004</td>\n",
       "      <td>78762700</td>\n",
       "      <td>0.0</td>\n",
       "      <td>0.0</td>\n",
       "      <td>143.437498</td>\n",
       "      <td>147.146803</td>\n",
       "    </tr>\n",
       "    <tr>\n",
       "      <th>2021-10-14</th>\n",
       "      <td>142.110001</td>\n",
       "      <td>143.880005</td>\n",
       "      <td>141.509995</td>\n",
       "      <td>143.759995</td>\n",
       "      <td>69907100</td>\n",
       "      <td>0.0</td>\n",
       "      <td>0.0</td>\n",
       "      <td>143.185999</td>\n",
       "      <td>147.087399</td>\n",
       "    </tr>\n",
       "    <tr>\n",
       "      <th>2021-10-15</th>\n",
       "      <td>143.770004</td>\n",
       "      <td>144.899994</td>\n",
       "      <td>143.509995</td>\n",
       "      <td>144.839996</td>\n",
       "      <td>67885200</td>\n",
       "      <td>0.0</td>\n",
       "      <td>0.0</td>\n",
       "      <td>143.124998</td>\n",
       "      <td>147.047399</td>\n",
       "    </tr>\n",
       "    <tr>\n",
       "      <th>2021-10-18</th>\n",
       "      <td>143.449997</td>\n",
       "      <td>146.839996</td>\n",
       "      <td>143.160004</td>\n",
       "      <td>146.550003</td>\n",
       "      <td>85589200</td>\n",
       "      <td>0.0</td>\n",
       "      <td>0.0</td>\n",
       "      <td>143.305499</td>\n",
       "      <td>147.055599</td>\n",
       "    </tr>\n",
       "  </tbody>\n",
       "</table>\n",
       "<p>705 rows × 9 columns</p>\n",
       "</div>"
      ],
      "text/plain": [
       "                  Open        High         Low       Close     Volume  \\\n",
       "Date                                                                    \n",
       "2019-01-02   37.645785   38.608258   37.485372   38.382221  148158800   \n",
       "2019-01-03   34.994130   35.417035   34.512895   34.559074  365248800   \n",
       "2019-01-04   35.127804   36.104860   34.950380   36.034374  234428400   \n",
       "2019-01-07   36.141315   36.172912   35.460778   35.954166  219111200   \n",
       "2019-01-08   36.350336   36.899628   36.097567   36.639565  164101200   \n",
       "...                ...         ...         ...         ...        ...   \n",
       "2021-10-12  143.229996  143.250000  141.039993  141.509995   73035900   \n",
       "2021-10-13  141.240005  141.399994  139.199997  140.910004   78762700   \n",
       "2021-10-14  142.110001  143.880005  141.509995  143.759995   69907100   \n",
       "2021-10-15  143.770004  144.899994  143.509995  144.839996   67885200   \n",
       "2021-10-18  143.449997  146.839996  143.160004  146.550003   85589200   \n",
       "\n",
       "            Dividends  Stock Splits      SMA_20      SMA_50  \n",
       "Date                                                         \n",
       "2019-01-02        0.0           0.0         NaN         NaN  \n",
       "2019-01-03        0.0           0.0         NaN         NaN  \n",
       "2019-01-04        0.0           0.0         NaN         NaN  \n",
       "2019-01-07        0.0           0.0         NaN         NaN  \n",
       "2019-01-08        0.0           0.0         NaN         NaN  \n",
       "...               ...           ...         ...         ...  \n",
       "2021-10-12        0.0           0.0  143.843498  147.271393  \n",
       "2021-10-13        0.0           0.0  143.437498  147.146803  \n",
       "2021-10-14        0.0           0.0  143.185999  147.087399  \n",
       "2021-10-15        0.0           0.0  143.124998  147.047399  \n",
       "2021-10-18        0.0           0.0  143.305499  147.055599  \n",
       "\n",
       "[705 rows x 9 columns]"
      ]
     },
     "execution_count": 88,
     "metadata": {},
     "output_type": "execute_result"
    }
   ],
   "source": [
    "aapl"
   ]
  },
  {
   "cell_type": "code",
   "execution_count": 89,
   "metadata": {},
   "outputs": [
    {
     "data": {
      "image/png": "[encoded data removed]",
      "text/plain": [
       "<Figure size 432x288 with 1 Axes>"
      ]
     },
     "metadata": {
      "needs_background": "light"
     },
     "output_type": "display_data"
    }
   ],
   "source": [
    "aapl['EMA_20'] = ta.EMA(aapl['Close'], timeperiod=20)\n",
    "aapl['EMA_50'] = ta.EMA(aapl['Close'], timeperiod=50)\n",
    "\n",
    "plt.plot(aapl['Close'], color='blue', label='Daily Close Price')\n",
    "plt.plot(aapl['EMA_20'], color='green', label='EMA 20')\n",
    "plt.plot(aapl['EMA_50'], color='red', label='EMA 50')\n",
    "plt.legend()\n",
    "plt.title('Exponential Moving Averages')\n",
    "plt.show()"
   ]
  },
  {
   "cell_type": "code",
   "execution_count": 90,
   "metadata": {},
   "outputs": [
    {
     "data": {
      "image/png": "[encoded data removed]",
      "text/plain": [
       "<Figure size 432x288 with 2 Axes>"
      ]
     },
     "metadata": {
      "needs_background": "light"
     },
     "output_type": "display_data"
    }
   ],
   "source": [
    "aapl['ADX'] = ta.ADX(aapl['High'], aapl['Low'], aapl['Close'], timeperiod=14)\n",
    "fig, (ax1, ax2) = plt.subplots(2, sharex=True)\n",
    "ax1.set_ylabel('Price')\n",
    "ax1.plot(aapl['Close'])\n",
    "ax2.set_ylabel('ADX')\n",
    "ax2.plot(aapl['ADX'], color='green')\n",
    "ax1.set_title('Daily Close Price and ADX')\n",
    "ax2.axhline(y = 50, color = 'r', linestyle = '-')\n",
    "ax2.axhline(y = 25, color = 'r', linestyle = '-')\n",
    "plt.show()"
   ]
  },
  {
   "cell_type": "code",
   "execution_count": 91,
   "metadata": {},
   "outputs": [
    {
     "data": {
      "image/png": "[encoded data removed]",
      "text/plain": [
       "<Figure size 432x288 with 2 Axes>"
      ]
     },
     "metadata": {
      "needs_background": "light"
     },
     "output_type": "display_data"
    }
   ],
   "source": [
    "macd, macdsignal, macdhist = ta.MACD(aapl['Close'], fastperiod=12, slowperiod=26, signalperiod=9)\n",
    "fig, (ax1, ax2) = plt.subplots(2, sharex=True)\n",
    "ax1.set_ylabel('Price')\n",
    "ax1.plot(aapl['Close'])\n",
    "ax2.set_ylabel('MACD')\n",
    "ax2.plot(macdsignal, color='green', label='Signal Line')\n",
    "ax2.plot(macd, color='red', label='MACD')\n",
    "ax2.bar(macdhist.index, macdhist, color='purple')\n",
    "ax1.set_title('Daily Close Price and MACD')\n",
    "plt.legend()\n",
    "plt.show()"
   ]
  },
  {
   "cell_type": "code",
   "execution_count": 92,
   "metadata": {},
   "outputs": [
    {
     "data": {
      "image/png": "[encoded data removed]",
      "text/plain": [
       "<Figure size 432x288 with 2 Axes>"
      ]
     },
     "metadata": {
      "needs_background": "light"
     },
     "output_type": "display_data"
    }
   ],
   "source": [
    "\n",
    "aapl['RSI'] = ta.RSI(aapl['Close'], timeperiod=14)\n",
    "fig, (ax1, ax2) = plt.subplots(2, sharex=True)\n",
    "ax1.set_ylabel('Price')\n",
    "ax1.plot(aapl['Close'])\n",
    "ax2.set_ylabel('RSI')\n",
    "ax2.plot(aapl['RSI'], color='green')\n",
    "ax2.axhline(y = 70, color = 'r', linestyle = '-')\n",
    "ax2.axhline(y = 30, color = 'r', linestyle = '-')\n",
    "ax1.set_title('Daily Close Price and RSI')\n",
    "plt.show()"
   ]
  },
  {
   "cell_type": "code",
   "execution_count": 93,
   "metadata": {},
   "outputs": [
    {
     "data": {
      "image/png": "[encoded data removed]",
      "text/plain": [
       "<Figure size 432x288 with 1 Axes>"
      ]
     },
     "metadata": {
      "needs_background": "light"
     },
     "output_type": "display_data"
    }
   ],
   "source": [
    "upper, mid, lower = ta.BBANDS(aapl['Close'], nbdevup=2, nbdevdn=2, timeperiod=20)\n",
    "plt.plot(upper, label=\"Upper band\")\n",
    "plt.plot(mid, label='Middle band')\n",
    "plt.plot(lower, label='Lower band')\n",
    "plt.plot(aapl['Close'], label='Close Price')\n",
    "plt.title('Bollinger Bands')\n",
    "plt.legend()\n",
    "plt.show()"
   ]
  },
  {
   "cell_type": "code",
   "execution_count": 94,
   "metadata": {},
   "outputs": [
    {
     "ename": "AttributeError",
     "evalue": "'list' object has no attribute 'shift'",
     "output_type": "error",
     "traceback": [
      "\u001b[1;31m---------------------------------------------------------------------------\u001b[0m",
      "\u001b[1;31mAttributeError\u001b[0m                            Traceback (most recent call last)",
      "\u001b[1;32m~\\AppData\\Local\\Temp/ipykernel_24060/581674857.py\u001b[0m in \u001b[0;36m<module>\u001b[1;34m\u001b[0m\n\u001b[1;32m----> 1\u001b[1;33m \u001b[0maapl\u001b[0m\u001b[1;33m[\u001b[0m\u001b[1;34m'Corr_20'\u001b[0m\u001b[1;33m]\u001b[0m \u001b[1;33m=\u001b[0m \u001b[0maapl\u001b[0m\u001b[1;33m[\u001b[0m\u001b[1;34m'Close'\u001b[0m\u001b[1;33m]\u001b[0m\u001b[1;33m.\u001b[0m\u001b[0mshift\u001b[0m\u001b[1;33m(\u001b[0m\u001b[1;36m1\u001b[0m\u001b[1;33m)\u001b[0m\u001b[1;33m.\u001b[0m\u001b[0mrolling\u001b[0m\u001b[1;33m(\u001b[0m\u001b[0mwindow\u001b[0m\u001b[1;33m=\u001b[0m\u001b[1;36m20\u001b[0m\u001b[1;33m)\u001b[0m\u001b[1;33m.\u001b[0m\u001b[0mcorr\u001b[0m\u001b[1;33m(\u001b[0m\u001b[1;33m[\u001b[0m\u001b[1;34m'SMA_20'\u001b[0m\u001b[1;33m]\u001b[0m\u001b[1;33m.\u001b[0m\u001b[0mshift\u001b[0m\u001b[1;33m(\u001b[0m\u001b[1;36m1\u001b[0m\u001b[1;33m)\u001b[0m\u001b[1;33m)\u001b[0m\u001b[1;33m\u001b[0m\u001b[1;33m\u001b[0m\u001b[0m\n\u001b[0m",
      "\u001b[1;31mAttributeError\u001b[0m: 'list' object has no attribute 'shift'"
     ]
    }
   ],
   "source": [
    "aapl['Corr_20'] = aapl['Close'].shift(1).rolling(window=20).corr(['SMA_20'].shift(1))"
   ]
  },
  {
   "cell_type": "code",
   "execution_count": null,
   "metadata": {},
   "outputs": [
    {
     "data": {
      "text/html": [
       "<div>\n",
       "<style scoped>\n",
       "    .dataframe tbody tr th:only-of-type {\n",
       "        vertical-align: middle;\n",
       "    }\n",
       "\n",
       "    .dataframe tbody tr th {\n",
       "        vertical-align: top;\n",
       "    }\n",
       "\n",
       "    .dataframe thead th {\n",
       "        text-align: right;\n",
       "    }\n",
       "</style>\n",
       "<table border=\"1\" class=\"dataframe\">\n",
       "  <thead>\n",
       "    <tr style=\"text-align: right;\">\n",
       "      <th></th>\n",
       "      <th>Open</th>\n",
       "      <th>High</th>\n",
       "      <th>Low</th>\n",
       "      <th>Close</th>\n",
       "      <th>Volume</th>\n",
       "      <th>Dividends</th>\n",
       "      <th>Stock Splits</th>\n",
       "      <th>SMA_20</th>\n",
       "      <th>SMA_50</th>\n",
       "      <th>EMA_20</th>\n",
       "      <th>EMA_50</th>\n",
       "      <th>ADX</th>\n",
       "      <th>RSI</th>\n",
       "    </tr>\n",
       "    <tr>\n",
       "      <th>Date</th>\n",
       "      <th></th>\n",
       "      <th></th>\n",
       "      <th></th>\n",
       "      <th></th>\n",
       "      <th></th>\n",
       "      <th></th>\n",
       "      <th></th>\n",
       "      <th></th>\n",
       "      <th></th>\n",
       "      <th></th>\n",
       "      <th></th>\n",
       "      <th></th>\n",
       "      <th></th>\n",
       "    </tr>\n",
       "  </thead>\n",
       "  <tbody>\n",
       "    <tr>\n",
       "      <th>2019-01-02</th>\n",
       "      <td>37.645788</td>\n",
       "      <td>38.608262</td>\n",
       "      <td>37.485375</td>\n",
       "      <td>38.382225</td>\n",
       "      <td>148158800</td>\n",
       "      <td>0.0</td>\n",
       "      <td>0.0</td>\n",
       "      <td>NaN</td>\n",
       "      <td>NaN</td>\n",
       "      <td>NaN</td>\n",
       "      <td>NaN</td>\n",
       "      <td>NaN</td>\n",
       "      <td>NaN</td>\n",
       "    </tr>\n",
       "    <tr>\n",
       "      <th>2019-01-03</th>\n",
       "      <td>34.994130</td>\n",
       "      <td>35.417035</td>\n",
       "      <td>34.512895</td>\n",
       "      <td>34.559074</td>\n",
       "      <td>365248800</td>\n",
       "      <td>0.0</td>\n",
       "      <td>0.0</td>\n",
       "      <td>NaN</td>\n",
       "      <td>NaN</td>\n",
       "      <td>NaN</td>\n",
       "      <td>NaN</td>\n",
       "      <td>NaN</td>\n",
       "      <td>NaN</td>\n",
       "    </tr>\n",
       "    <tr>\n",
       "      <th>2019-01-04</th>\n",
       "      <td>35.127808</td>\n",
       "      <td>36.104864</td>\n",
       "      <td>34.950384</td>\n",
       "      <td>36.034378</td>\n",
       "      <td>234428400</td>\n",
       "      <td>0.0</td>\n",
       "      <td>0.0</td>\n",
       "      <td>NaN</td>\n",
       "      <td>NaN</td>\n",
       "      <td>NaN</td>\n",
       "      <td>NaN</td>\n",
       "      <td>NaN</td>\n",
       "      <td>NaN</td>\n",
       "    </tr>\n",
       "    <tr>\n",
       "      <th>2019-01-07</th>\n",
       "      <td>36.141322</td>\n",
       "      <td>36.172920</td>\n",
       "      <td>35.460786</td>\n",
       "      <td>35.954174</td>\n",
       "      <td>219111200</td>\n",
       "      <td>0.0</td>\n",
       "      <td>0.0</td>\n",
       "      <td>NaN</td>\n",
       "      <td>NaN</td>\n",
       "      <td>NaN</td>\n",
       "      <td>NaN</td>\n",
       "      <td>NaN</td>\n",
       "      <td>NaN</td>\n",
       "    </tr>\n",
       "    <tr>\n",
       "      <th>2019-01-08</th>\n",
       "      <td>36.350340</td>\n",
       "      <td>36.899632</td>\n",
       "      <td>36.097571</td>\n",
       "      <td>36.639568</td>\n",
       "      <td>164101200</td>\n",
       "      <td>0.0</td>\n",
       "      <td>0.0</td>\n",
       "      <td>NaN</td>\n",
       "      <td>NaN</td>\n",
       "      <td>NaN</td>\n",
       "      <td>NaN</td>\n",
       "      <td>NaN</td>\n",
       "      <td>NaN</td>\n",
       "    </tr>\n",
       "    <tr>\n",
       "      <th>...</th>\n",
       "      <td>...</td>\n",
       "      <td>...</td>\n",
       "      <td>...</td>\n",
       "      <td>...</td>\n",
       "      <td>...</td>\n",
       "      <td>...</td>\n",
       "      <td>...</td>\n",
       "      <td>...</td>\n",
       "      <td>...</td>\n",
       "      <td>...</td>\n",
       "      <td>...</td>\n",
       "      <td>...</td>\n",
       "      <td>...</td>\n",
       "    </tr>\n",
       "    <tr>\n",
       "      <th>2021-10-12</th>\n",
       "      <td>143.229996</td>\n",
       "      <td>143.250000</td>\n",
       "      <td>141.039993</td>\n",
       "      <td>141.509995</td>\n",
       "      <td>73035900</td>\n",
       "      <td>0.0</td>\n",
       "      <td>0.0</td>\n",
       "      <td>143.843498</td>\n",
       "      <td>147.271393</td>\n",
       "      <td>143.969474</td>\n",
       "      <td>144.922200</td>\n",
       "      <td>31.636420</td>\n",
       "      <td>41.390628</td>\n",
       "    </tr>\n",
       "    <tr>\n",
       "      <th>2021-10-13</th>\n",
       "      <td>141.240005</td>\n",
       "      <td>141.399994</td>\n",
       "      <td>139.199997</td>\n",
       "      <td>140.910004</td>\n",
       "      <td>78762700</td>\n",
       "      <td>0.0</td>\n",
       "      <td>0.0</td>\n",
       "      <td>143.437498</td>\n",
       "      <td>147.146803</td>\n",
       "      <td>143.678095</td>\n",
       "      <td>144.764859</td>\n",
       "      <td>32.692084</td>\n",
       "      <td>40.070774</td>\n",
       "    </tr>\n",
       "    <tr>\n",
       "      <th>2021-10-14</th>\n",
       "      <td>142.110001</td>\n",
       "      <td>143.880005</td>\n",
       "      <td>141.509995</td>\n",
       "      <td>143.759995</td>\n",
       "      <td>69907100</td>\n",
       "      <td>0.0</td>\n",
       "      <td>0.0</td>\n",
       "      <td>143.185999</td>\n",
       "      <td>147.087399</td>\n",
       "      <td>143.685895</td>\n",
       "      <td>144.725453</td>\n",
       "      <td>32.175413</td>\n",
       "      <td>48.475459</td>\n",
       "    </tr>\n",
       "    <tr>\n",
       "      <th>2021-10-15</th>\n",
       "      <td>143.770004</td>\n",
       "      <td>144.899994</td>\n",
       "      <td>143.509995</td>\n",
       "      <td>144.839996</td>\n",
       "      <td>67885200</td>\n",
       "      <td>0.0</td>\n",
       "      <td>0.0</td>\n",
       "      <td>143.124998</td>\n",
       "      <td>147.047399</td>\n",
       "      <td>143.795810</td>\n",
       "      <td>144.729945</td>\n",
       "      <td>31.161395</td>\n",
       "      <td>51.264737</td>\n",
       "    </tr>\n",
       "    <tr>\n",
       "      <th>2021-10-18</th>\n",
       "      <td>143.449997</td>\n",
       "      <td>146.839996</td>\n",
       "      <td>143.160004</td>\n",
       "      <td>146.550003</td>\n",
       "      <td>85589200</td>\n",
       "      <td>0.0</td>\n",
       "      <td>0.0</td>\n",
       "      <td>143.305499</td>\n",
       "      <td>147.055599</td>\n",
       "      <td>144.058114</td>\n",
       "      <td>144.801320</td>\n",
       "      <td>29.302731</td>\n",
       "      <td>55.383190</td>\n",
       "    </tr>\n",
       "  </tbody>\n",
       "</table>\n",
       "<p>705 rows × 13 columns</p>\n",
       "</div>"
      ],
      "text/plain": [
       "                  Open        High         Low       Close     Volume  \\\n",
       "Date                                                                    \n",
       "2019-01-02   37.645788   38.608262   37.485375   38.382225  148158800   \n",
       "2019-01-03   34.994130   35.417035   34.512895   34.559074  365248800   \n",
       "2019-01-04   35.127808   36.104864   34.950384   36.034378  234428400   \n",
       "2019-01-07   36.141322   36.172920   35.460786   35.954174  219111200   \n",
       "2019-01-08   36.350340   36.899632   36.097571   36.639568  164101200   \n",
       "...                ...         ...         ...         ...        ...   \n",
       "2021-10-12  143.229996  143.250000  141.039993  141.509995   73035900   \n",
       "2021-10-13  141.240005  141.399994  139.199997  140.910004   78762700   \n",
       "2021-10-14  142.110001  143.880005  141.509995  143.759995   69907100   \n",
       "2021-10-15  143.770004  144.899994  143.509995  144.839996   67885200   \n",
       "2021-10-18  143.449997  146.839996  143.160004  146.550003   85589200   \n",
       "\n",
       "            Dividends  Stock Splits      SMA_20      SMA_50      EMA_20  \\\n",
       "Date                                                                      \n",
       "2019-01-02        0.0           0.0         NaN         NaN         NaN   \n",
       "2019-01-03        0.0           0.0         NaN         NaN         NaN   \n",
       "2019-01-04        0.0           0.0         NaN         NaN         NaN   \n",
       "2019-01-07        0.0           0.0         NaN         NaN         NaN   \n",
       "2019-01-08        0.0           0.0         NaN         NaN         NaN   \n",
       "...               ...           ...         ...         ...         ...   \n",
       "2021-10-12        0.0           0.0  143.843498  147.271393  143.969474   \n",
       "2021-10-13        0.0           0.0  143.437498  147.146803  143.678095   \n",
       "2021-10-14        0.0           0.0  143.185999  147.087399  143.685895   \n",
       "2021-10-15        0.0           0.0  143.124998  147.047399  143.795810   \n",
       "2021-10-18        0.0           0.0  143.305499  147.055599  144.058114   \n",
       "\n",
       "                EMA_50        ADX        RSI  \n",
       "Date                                          \n",
       "2019-01-02         NaN        NaN        NaN  \n",
       "2019-01-03         NaN        NaN        NaN  \n",
       "2019-01-04         NaN        NaN        NaN  \n",
       "2019-01-07         NaN        NaN        NaN  \n",
       "2019-01-08         NaN        NaN        NaN  \n",
       "...                ...        ...        ...  \n",
       "2021-10-12  144.922200  31.636420  41.390628  \n",
       "2021-10-13  144.764859  32.692084  40.070774  \n",
       "2021-10-14  144.725453  32.175413  48.475459  \n",
       "2021-10-15  144.729945  31.161395  51.264737  \n",
       "2021-10-18  144.801320  29.302731  55.383190  \n",
       "\n",
       "[705 rows x 13 columns]"
      ]
     },
     "execution_count": 72,
     "metadata": {},
     "output_type": "execute_result"
    }
   ],
   "source": [
    "aapl"
   ]
  },
  {
   "cell_type": "code",
   "execution_count": null,
   "metadata": {},
   "outputs": [],
   "source": [
    "# Create columns high, low and close with previous minute's OHLC data\n",
    "aapl['Prev_High'] = aapl['High'].shift(1)\n",
    "aapl['Prev_Low'] = aapl['Low'].shift(1)\n",
    "aapl['Prev_Close'] = aapl['Close'].shift(1)\n",
    "# Create columns 'OO' with the difference between the current minute's open and last minute's open\n",
    "aapl['OO'] = aapl['Open']-aapl['Open'].shift(1)\n",
    "\n",
    "# Create columns 'OC' with the difference between the current minute's open and last minute's close\n",
    "aapl['OC'] = aapl['Open']-aapl['Prev_Close']"
   ]
  },
  {
   "cell_type": "code",
   "execution_count": null,
   "metadata": {},
   "outputs": [],
   "source": [
    "# Create a column 'Fut_Ret' with the calculation of returns\n",
    "aapl['Fut_Ret'] = (aapl['Open'].shift(-1)-aapl['Open'])/aapl['Open']\n",
    "\n",
    "# Create n columns and assign\n",
    "for i in range(1, 5):\n",
    "    aapl['return%i' % i] = aapl['Fut_Ret'].shift(i)"
   ]
  },
  {
   "cell_type": "code",
   "execution_count": null,
   "metadata": {},
   "outputs": [
    {
     "data": {
      "text/html": [
       "<div>\n",
       "<style scoped>\n",
       "    .dataframe tbody tr th:only-of-type {\n",
       "        vertical-align: middle;\n",
       "    }\n",
       "\n",
       "    .dataframe tbody tr th {\n",
       "        vertical-align: top;\n",
       "    }\n",
       "\n",
       "    .dataframe thead th {\n",
       "        text-align: right;\n",
       "    }\n",
       "</style>\n",
       "<table border=\"1\" class=\"dataframe\">\n",
       "  <thead>\n",
       "    <tr style=\"text-align: right;\">\n",
       "      <th></th>\n",
       "      <th>Open</th>\n",
       "      <th>High</th>\n",
       "      <th>Low</th>\n",
       "      <th>Close</th>\n",
       "      <th>Volume</th>\n",
       "      <th>Dividends</th>\n",
       "      <th>Stock Splits</th>\n",
       "      <th>SMA_20</th>\n",
       "      <th>SMA_50</th>\n",
       "      <th>EMA_20</th>\n",
       "      <th>...</th>\n",
       "      <th>Prev_High</th>\n",
       "      <th>Prev_Low</th>\n",
       "      <th>Prev_Close</th>\n",
       "      <th>OO</th>\n",
       "      <th>OC</th>\n",
       "      <th>Fut_Ret</th>\n",
       "      <th>return1</th>\n",
       "      <th>return2</th>\n",
       "      <th>return3</th>\n",
       "      <th>return4</th>\n",
       "    </tr>\n",
       "    <tr>\n",
       "      <th>Date</th>\n",
       "      <th></th>\n",
       "      <th></th>\n",
       "      <th></th>\n",
       "      <th></th>\n",
       "      <th></th>\n",
       "      <th></th>\n",
       "      <th></th>\n",
       "      <th></th>\n",
       "      <th></th>\n",
       "      <th></th>\n",
       "      <th></th>\n",
       "      <th></th>\n",
       "      <th></th>\n",
       "      <th></th>\n",
       "      <th></th>\n",
       "      <th></th>\n",
       "      <th></th>\n",
       "      <th></th>\n",
       "      <th></th>\n",
       "      <th></th>\n",
       "      <th></th>\n",
       "    </tr>\n",
       "  </thead>\n",
       "  <tbody>\n",
       "    <tr>\n",
       "      <th>2019-01-02</th>\n",
       "      <td>37.645788</td>\n",
       "      <td>38.608262</td>\n",
       "      <td>37.485375</td>\n",
       "      <td>38.382225</td>\n",
       "      <td>148158800</td>\n",
       "      <td>0.0</td>\n",
       "      <td>0.0</td>\n",
       "      <td>NaN</td>\n",
       "      <td>NaN</td>\n",
       "      <td>NaN</td>\n",
       "      <td>...</td>\n",
       "      <td>NaN</td>\n",
       "      <td>NaN</td>\n",
       "      <td>NaN</td>\n",
       "      <td>NaN</td>\n",
       "      <td>NaN</td>\n",
       "      <td>-0.070437</td>\n",
       "      <td>NaN</td>\n",
       "      <td>NaN</td>\n",
       "      <td>NaN</td>\n",
       "      <td>NaN</td>\n",
       "    </tr>\n",
       "    <tr>\n",
       "      <th>2019-01-03</th>\n",
       "      <td>34.994130</td>\n",
       "      <td>35.417035</td>\n",
       "      <td>34.512895</td>\n",
       "      <td>34.559074</td>\n",
       "      <td>365248800</td>\n",
       "      <td>0.0</td>\n",
       "      <td>0.0</td>\n",
       "      <td>NaN</td>\n",
       "      <td>NaN</td>\n",
       "      <td>NaN</td>\n",
       "      <td>...</td>\n",
       "      <td>38.608262</td>\n",
       "      <td>37.485375</td>\n",
       "      <td>38.382225</td>\n",
       "      <td>-2.651659</td>\n",
       "      <td>-3.388095</td>\n",
       "      <td>0.003820</td>\n",
       "      <td>-0.070437</td>\n",
       "      <td>NaN</td>\n",
       "      <td>NaN</td>\n",
       "      <td>NaN</td>\n",
       "    </tr>\n",
       "    <tr>\n",
       "      <th>2019-01-04</th>\n",
       "      <td>35.127808</td>\n",
       "      <td>36.104864</td>\n",
       "      <td>34.950384</td>\n",
       "      <td>36.034378</td>\n",
       "      <td>234428400</td>\n",
       "      <td>0.0</td>\n",
       "      <td>0.0</td>\n",
       "      <td>NaN</td>\n",
       "      <td>NaN</td>\n",
       "      <td>NaN</td>\n",
       "      <td>...</td>\n",
       "      <td>35.417035</td>\n",
       "      <td>34.512895</td>\n",
       "      <td>34.559074</td>\n",
       "      <td>0.133678</td>\n",
       "      <td>0.568734</td>\n",
       "      <td>0.028852</td>\n",
       "      <td>0.003820</td>\n",
       "      <td>-0.070437</td>\n",
       "      <td>NaN</td>\n",
       "      <td>NaN</td>\n",
       "    </tr>\n",
       "    <tr>\n",
       "      <th>2019-01-07</th>\n",
       "      <td>36.141322</td>\n",
       "      <td>36.172920</td>\n",
       "      <td>35.460786</td>\n",
       "      <td>35.954174</td>\n",
       "      <td>219111200</td>\n",
       "      <td>0.0</td>\n",
       "      <td>0.0</td>\n",
       "      <td>NaN</td>\n",
       "      <td>NaN</td>\n",
       "      <td>NaN</td>\n",
       "      <td>...</td>\n",
       "      <td>36.104864</td>\n",
       "      <td>34.950384</td>\n",
       "      <td>36.034378</td>\n",
       "      <td>1.013515</td>\n",
       "      <td>0.106944</td>\n",
       "      <td>0.005783</td>\n",
       "      <td>0.028852</td>\n",
       "      <td>0.003820</td>\n",
       "      <td>-0.070437</td>\n",
       "      <td>NaN</td>\n",
       "    </tr>\n",
       "    <tr>\n",
       "      <th>2019-01-08</th>\n",
       "      <td>36.350340</td>\n",
       "      <td>36.899632</td>\n",
       "      <td>36.097571</td>\n",
       "      <td>36.639568</td>\n",
       "      <td>164101200</td>\n",
       "      <td>0.0</td>\n",
       "      <td>0.0</td>\n",
       "      <td>NaN</td>\n",
       "      <td>NaN</td>\n",
       "      <td>NaN</td>\n",
       "      <td>...</td>\n",
       "      <td>36.172920</td>\n",
       "      <td>35.460786</td>\n",
       "      <td>35.954174</td>\n",
       "      <td>0.209017</td>\n",
       "      <td>0.396166</td>\n",
       "      <td>0.011567</td>\n",
       "      <td>0.005783</td>\n",
       "      <td>0.028852</td>\n",
       "      <td>0.003820</td>\n",
       "      <td>-0.070437</td>\n",
       "    </tr>\n",
       "    <tr>\n",
       "      <th>...</th>\n",
       "      <td>...</td>\n",
       "      <td>...</td>\n",
       "      <td>...</td>\n",
       "      <td>...</td>\n",
       "      <td>...</td>\n",
       "      <td>...</td>\n",
       "      <td>...</td>\n",
       "      <td>...</td>\n",
       "      <td>...</td>\n",
       "      <td>...</td>\n",
       "      <td>...</td>\n",
       "      <td>...</td>\n",
       "      <td>...</td>\n",
       "      <td>...</td>\n",
       "      <td>...</td>\n",
       "      <td>...</td>\n",
       "      <td>...</td>\n",
       "      <td>...</td>\n",
       "      <td>...</td>\n",
       "      <td>...</td>\n",
       "      <td>...</td>\n",
       "    </tr>\n",
       "    <tr>\n",
       "      <th>2021-10-12</th>\n",
       "      <td>143.229996</td>\n",
       "      <td>143.250000</td>\n",
       "      <td>141.039993</td>\n",
       "      <td>141.509995</td>\n",
       "      <td>73035900</td>\n",
       "      <td>0.0</td>\n",
       "      <td>0.0</td>\n",
       "      <td>143.843498</td>\n",
       "      <td>147.271393</td>\n",
       "      <td>143.969474</td>\n",
       "      <td>...</td>\n",
       "      <td>144.809998</td>\n",
       "      <td>141.809998</td>\n",
       "      <td>142.809998</td>\n",
       "      <td>0.959991</td>\n",
       "      <td>0.419998</td>\n",
       "      <td>-0.013894</td>\n",
       "      <td>0.006748</td>\n",
       "      <td>-0.012220</td>\n",
       "      <td>0.006780</td>\n",
       "      <td>0.025740</td>\n",
       "    </tr>\n",
       "    <tr>\n",
       "      <th>2021-10-13</th>\n",
       "      <td>141.240005</td>\n",
       "      <td>141.399994</td>\n",
       "      <td>139.199997</td>\n",
       "      <td>140.910004</td>\n",
       "      <td>78762700</td>\n",
       "      <td>0.0</td>\n",
       "      <td>0.0</td>\n",
       "      <td>143.437498</td>\n",
       "      <td>147.146803</td>\n",
       "      <td>143.678095</td>\n",
       "      <td>...</td>\n",
       "      <td>143.250000</td>\n",
       "      <td>141.039993</td>\n",
       "      <td>141.509995</td>\n",
       "      <td>-1.989990</td>\n",
       "      <td>-0.269989</td>\n",
       "      <td>0.006160</td>\n",
       "      <td>-0.013894</td>\n",
       "      <td>0.006748</td>\n",
       "      <td>-0.012220</td>\n",
       "      <td>0.006780</td>\n",
       "    </tr>\n",
       "    <tr>\n",
       "      <th>2021-10-14</th>\n",
       "      <td>142.110001</td>\n",
       "      <td>143.880005</td>\n",
       "      <td>141.509995</td>\n",
       "      <td>143.759995</td>\n",
       "      <td>69907100</td>\n",
       "      <td>0.0</td>\n",
       "      <td>0.0</td>\n",
       "      <td>143.185999</td>\n",
       "      <td>147.087399</td>\n",
       "      <td>143.685895</td>\n",
       "      <td>...</td>\n",
       "      <td>141.399994</td>\n",
       "      <td>139.199997</td>\n",
       "      <td>140.910004</td>\n",
       "      <td>0.869995</td>\n",
       "      <td>1.199997</td>\n",
       "      <td>0.011681</td>\n",
       "      <td>0.006160</td>\n",
       "      <td>-0.013894</td>\n",
       "      <td>0.006748</td>\n",
       "      <td>-0.012220</td>\n",
       "    </tr>\n",
       "    <tr>\n",
       "      <th>2021-10-15</th>\n",
       "      <td>143.770004</td>\n",
       "      <td>144.899994</td>\n",
       "      <td>143.509995</td>\n",
       "      <td>144.839996</td>\n",
       "      <td>67885200</td>\n",
       "      <td>0.0</td>\n",
       "      <td>0.0</td>\n",
       "      <td>143.124998</td>\n",
       "      <td>147.047399</td>\n",
       "      <td>143.795810</td>\n",
       "      <td>...</td>\n",
       "      <td>143.880005</td>\n",
       "      <td>141.509995</td>\n",
       "      <td>143.759995</td>\n",
       "      <td>1.660004</td>\n",
       "      <td>0.010010</td>\n",
       "      <td>-0.002226</td>\n",
       "      <td>0.011681</td>\n",
       "      <td>0.006160</td>\n",
       "      <td>-0.013894</td>\n",
       "      <td>0.006748</td>\n",
       "    </tr>\n",
       "    <tr>\n",
       "      <th>2021-10-18</th>\n",
       "      <td>143.449997</td>\n",
       "      <td>146.839996</td>\n",
       "      <td>143.160004</td>\n",
       "      <td>146.550003</td>\n",
       "      <td>85589200</td>\n",
       "      <td>0.0</td>\n",
       "      <td>0.0</td>\n",
       "      <td>143.305499</td>\n",
       "      <td>147.055599</td>\n",
       "      <td>144.058114</td>\n",
       "      <td>...</td>\n",
       "      <td>144.899994</td>\n",
       "      <td>143.509995</td>\n",
       "      <td>144.839996</td>\n",
       "      <td>-0.320007</td>\n",
       "      <td>-1.389999</td>\n",
       "      <td>NaN</td>\n",
       "      <td>-0.002226</td>\n",
       "      <td>0.011681</td>\n",
       "      <td>0.006160</td>\n",
       "      <td>-0.013894</td>\n",
       "    </tr>\n",
       "  </tbody>\n",
       "</table>\n",
       "<p>705 rows × 23 columns</p>\n",
       "</div>"
      ],
      "text/plain": [
       "                  Open        High         Low       Close     Volume  \\\n",
       "Date                                                                    \n",
       "2019-01-02   37.645788   38.608262   37.485375   38.382225  148158800   \n",
       "2019-01-03   34.994130   35.417035   34.512895   34.559074  365248800   \n",
       "2019-01-04   35.127808   36.104864   34.950384   36.034378  234428400   \n",
       "2019-01-07   36.141322   36.172920   35.460786   35.954174  219111200   \n",
       "2019-01-08   36.350340   36.899632   36.097571   36.639568  164101200   \n",
       "...                ...         ...         ...         ...        ...   \n",
       "2021-10-12  143.229996  143.250000  141.039993  141.509995   73035900   \n",
       "2021-10-13  141.240005  141.399994  139.199997  140.910004   78762700   \n",
       "2021-10-14  142.110001  143.880005  141.509995  143.759995   69907100   \n",
       "2021-10-15  143.770004  144.899994  143.509995  144.839996   67885200   \n",
       "2021-10-18  143.449997  146.839996  143.160004  146.550003   85589200   \n",
       "\n",
       "            Dividends  Stock Splits      SMA_20      SMA_50      EMA_20  ...  \\\n",
       "Date                                                                     ...   \n",
       "2019-01-02        0.0           0.0         NaN         NaN         NaN  ...   \n",
       "2019-01-03        0.0           0.0         NaN         NaN         NaN  ...   \n",
       "2019-01-04        0.0           0.0         NaN         NaN         NaN  ...   \n",
       "2019-01-07        0.0           0.0         NaN         NaN         NaN  ...   \n",
       "2019-01-08        0.0           0.0         NaN         NaN         NaN  ...   \n",
       "...               ...           ...         ...         ...         ...  ...   \n",
       "2021-10-12        0.0           0.0  143.843498  147.271393  143.969474  ...   \n",
       "2021-10-13        0.0           0.0  143.437498  147.146803  143.678095  ...   \n",
       "2021-10-14        0.0           0.0  143.185999  147.087399  143.685895  ...   \n",
       "2021-10-15        0.0           0.0  143.124998  147.047399  143.795810  ...   \n",
       "2021-10-18        0.0           0.0  143.305499  147.055599  144.058114  ...   \n",
       "\n",
       "             Prev_High    Prev_Low  Prev_Close        OO        OC   Fut_Ret  \\\n",
       "Date                                                                           \n",
       "2019-01-02         NaN         NaN         NaN       NaN       NaN -0.070437   \n",
       "2019-01-03   38.608262   37.485375   38.382225 -2.651659 -3.388095  0.003820   \n",
       "2019-01-04   35.417035   34.512895   34.559074  0.133678  0.568734  0.028852   \n",
       "2019-01-07   36.104864   34.950384   36.034378  1.013515  0.106944  0.005783   \n",
       "2019-01-08   36.172920   35.460786   35.954174  0.209017  0.396166  0.011567   \n",
       "...                ...         ...         ...       ...       ...       ...   \n",
       "2021-10-12  144.809998  141.809998  142.809998  0.959991  0.419998 -0.013894   \n",
       "2021-10-13  143.250000  141.039993  141.509995 -1.989990 -0.269989  0.006160   \n",
       "2021-10-14  141.399994  139.199997  140.910004  0.869995  1.199997  0.011681   \n",
       "2021-10-15  143.880005  141.509995  143.759995  1.660004  0.010010 -0.002226   \n",
       "2021-10-18  144.899994  143.509995  144.839996 -0.320007 -1.389999       NaN   \n",
       "\n",
       "             return1   return2   return3   return4  \n",
       "Date                                                \n",
       "2019-01-02       NaN       NaN       NaN       NaN  \n",
       "2019-01-03 -0.070437       NaN       NaN       NaN  \n",
       "2019-01-04  0.003820 -0.070437       NaN       NaN  \n",
       "2019-01-07  0.028852  0.003820 -0.070437       NaN  \n",
       "2019-01-08  0.005783  0.028852  0.003820 -0.070437  \n",
       "...              ...       ...       ...       ...  \n",
       "2021-10-12  0.006748 -0.012220  0.006780  0.025740  \n",
       "2021-10-13 -0.013894  0.006748 -0.012220  0.006780  \n",
       "2021-10-14  0.006160 -0.013894  0.006748 -0.012220  \n",
       "2021-10-15  0.011681  0.006160 -0.013894  0.006748  \n",
       "2021-10-18 -0.002226  0.011681  0.006160 -0.013894  \n",
       "\n",
       "[705 rows x 23 columns]"
      ]
     },
     "execution_count": 78,
     "metadata": {},
     "output_type": "execute_result"
    }
   ],
   "source": [
    "aapl"
   ]
  },
  {
   "cell_type": "code",
   "execution_count": null,
   "metadata": {},
   "outputs": [
    {
     "ename": "KeyError",
     "evalue": "'Corr'",
     "output_type": "error",
     "traceback": [
      "\u001b[1;31m---------------------------------------------------------------------------\u001b[0m",
      "\u001b[1;31mKeyError\u001b[0m                                  Traceback (most recent call last)",
      "\u001b[1;32m~\\Anaconda3\\envs\\quantra\\lib\\site-packages\\pandas\\core\\indexes\\base.py\u001b[0m in \u001b[0;36mget_loc\u001b[1;34m(self, key, method, tolerance)\u001b[0m\n\u001b[0;32m   3360\u001b[0m             \u001b[1;32mtry\u001b[0m\u001b[1;33m:\u001b[0m\u001b[1;33m\u001b[0m\u001b[1;33m\u001b[0m\u001b[0m\n\u001b[1;32m-> 3361\u001b[1;33m                 \u001b[1;32mreturn\u001b[0m \u001b[0mself\u001b[0m\u001b[1;33m.\u001b[0m\u001b[0m_engine\u001b[0m\u001b[1;33m.\u001b[0m\u001b[0mget_loc\u001b[0m\u001b[1;33m(\u001b[0m\u001b[0mcasted_key\u001b[0m\u001b[1;33m)\u001b[0m\u001b[1;33m\u001b[0m\u001b[1;33m\u001b[0m\u001b[0m\n\u001b[0m\u001b[0;32m   3362\u001b[0m             \u001b[1;32mexcept\u001b[0m \u001b[0mKeyError\u001b[0m \u001b[1;32mas\u001b[0m \u001b[0merr\u001b[0m\u001b[1;33m:\u001b[0m\u001b[1;33m\u001b[0m\u001b[1;33m\u001b[0m\u001b[0m\n",
      "\u001b[1;32m~\\Anaconda3\\envs\\quantra\\lib\\site-packages\\pandas\\_libs\\index.pyx\u001b[0m in \u001b[0;36mpandas._libs.index.IndexEngine.get_loc\u001b[1;34m()\u001b[0m\n",
      "\u001b[1;32m~\\Anaconda3\\envs\\quantra\\lib\\site-packages\\pandas\\_libs\\index.pyx\u001b[0m in \u001b[0;36mpandas._libs.index.IndexEngine.get_loc\u001b[1;34m()\u001b[0m\n",
      "\u001b[1;32mpandas\\_libs\\hashtable_class_helper.pxi\u001b[0m in \u001b[0;36mpandas._libs.hashtable.PyObjectHashTable.get_item\u001b[1;34m()\u001b[0m\n",
      "\u001b[1;32mpandas\\_libs\\hashtable_class_helper.pxi\u001b[0m in \u001b[0;36mpandas._libs.hashtable.PyObjectHashTable.get_item\u001b[1;34m()\u001b[0m\n",
      "\u001b[1;31mKeyError\u001b[0m: 'Corr'",
      "\nThe above exception was the direct cause of the following exception:\n",
      "\u001b[1;31mKeyError\u001b[0m                                  Traceback (most recent call last)",
      "\u001b[1;32m~\\AppData\\Local\\Temp/ipykernel_24060/815863487.py\u001b[0m in \u001b[0;36m<module>\u001b[1;34m\u001b[0m\n\u001b[0;32m      1\u001b[0m \u001b[1;31m# Change the value of 'Corr' to -1 if it is less than -1\u001b[0m\u001b[1;33m\u001b[0m\u001b[1;33m\u001b[0m\u001b[0m\n\u001b[1;32m----> 2\u001b[1;33m \u001b[0maapl\u001b[0m\u001b[1;33m.\u001b[0m\u001b[0mloc\u001b[0m\u001b[1;33m[\u001b[0m\u001b[0maapl\u001b[0m\u001b[1;33m[\u001b[0m\u001b[1;34m'Corr'\u001b[0m\u001b[1;33m]\u001b[0m \u001b[1;33m<\u001b[0m \u001b[1;33m-\u001b[0m\u001b[1;36m1\u001b[0m\u001b[1;33m,\u001b[0m \u001b[1;34m'Corr'\u001b[0m\u001b[1;33m]\u001b[0m \u001b[1;33m=\u001b[0m \u001b[1;33m-\u001b[0m\u001b[1;36m1\u001b[0m\u001b[1;33m\u001b[0m\u001b[1;33m\u001b[0m\u001b[0m\n\u001b[0m\u001b[0;32m      3\u001b[0m \u001b[1;33m\u001b[0m\u001b[0m\n\u001b[0;32m      4\u001b[0m \u001b[1;31m# Change the value of 'Corr' to 1 if it is greater than 1\u001b[0m\u001b[1;33m\u001b[0m\u001b[1;33m\u001b[0m\u001b[0m\n\u001b[0;32m      5\u001b[0m \u001b[0maapl\u001b[0m\u001b[1;33m.\u001b[0m\u001b[0mloc\u001b[0m\u001b[1;33m[\u001b[0m\u001b[0maapl\u001b[0m\u001b[1;33m[\u001b[0m\u001b[1;34m'Corr'\u001b[0m\u001b[1;33m]\u001b[0m \u001b[1;33m>\u001b[0m \u001b[1;36m1\u001b[0m\u001b[1;33m,\u001b[0m \u001b[1;34m'Corr'\u001b[0m\u001b[1;33m]\u001b[0m \u001b[1;33m=\u001b[0m \u001b[1;36m1\u001b[0m\u001b[1;33m\u001b[0m\u001b[1;33m\u001b[0m\u001b[0m\n",
      "\u001b[1;32m~\\Anaconda3\\envs\\quantra\\lib\\site-packages\\pandas\\core\\frame.py\u001b[0m in \u001b[0;36m__getitem__\u001b[1;34m(self, key)\u001b[0m\n\u001b[0;32m   3456\u001b[0m             \u001b[1;32mif\u001b[0m \u001b[0mself\u001b[0m\u001b[1;33m.\u001b[0m\u001b[0mcolumns\u001b[0m\u001b[1;33m.\u001b[0m\u001b[0mnlevels\u001b[0m \u001b[1;33m>\u001b[0m \u001b[1;36m1\u001b[0m\u001b[1;33m:\u001b[0m\u001b[1;33m\u001b[0m\u001b[1;33m\u001b[0m\u001b[0m\n\u001b[0;32m   3457\u001b[0m                 \u001b[1;32mreturn\u001b[0m \u001b[0mself\u001b[0m\u001b[1;33m.\u001b[0m\u001b[0m_getitem_multilevel\u001b[0m\u001b[1;33m(\u001b[0m\u001b[0mkey\u001b[0m\u001b[1;33m)\u001b[0m\u001b[1;33m\u001b[0m\u001b[1;33m\u001b[0m\u001b[0m\n\u001b[1;32m-> 3458\u001b[1;33m             \u001b[0mindexer\u001b[0m \u001b[1;33m=\u001b[0m \u001b[0mself\u001b[0m\u001b[1;33m.\u001b[0m\u001b[0mcolumns\u001b[0m\u001b[1;33m.\u001b[0m\u001b[0mget_loc\u001b[0m\u001b[1;33m(\u001b[0m\u001b[0mkey\u001b[0m\u001b[1;33m)\u001b[0m\u001b[1;33m\u001b[0m\u001b[1;33m\u001b[0m\u001b[0m\n\u001b[0m\u001b[0;32m   3459\u001b[0m             \u001b[1;32mif\u001b[0m \u001b[0mis_integer\u001b[0m\u001b[1;33m(\u001b[0m\u001b[0mindexer\u001b[0m\u001b[1;33m)\u001b[0m\u001b[1;33m:\u001b[0m\u001b[1;33m\u001b[0m\u001b[1;33m\u001b[0m\u001b[0m\n\u001b[0;32m   3460\u001b[0m                 \u001b[0mindexer\u001b[0m \u001b[1;33m=\u001b[0m \u001b[1;33m[\u001b[0m\u001b[0mindexer\u001b[0m\u001b[1;33m]\u001b[0m\u001b[1;33m\u001b[0m\u001b[1;33m\u001b[0m\u001b[0m\n",
      "\u001b[1;32m~\\Anaconda3\\envs\\quantra\\lib\\site-packages\\pandas\\core\\indexes\\base.py\u001b[0m in \u001b[0;36mget_loc\u001b[1;34m(self, key, method, tolerance)\u001b[0m\n\u001b[0;32m   3361\u001b[0m                 \u001b[1;32mreturn\u001b[0m \u001b[0mself\u001b[0m\u001b[1;33m.\u001b[0m\u001b[0m_engine\u001b[0m\u001b[1;33m.\u001b[0m\u001b[0mget_loc\u001b[0m\u001b[1;33m(\u001b[0m\u001b[0mcasted_key\u001b[0m\u001b[1;33m)\u001b[0m\u001b[1;33m\u001b[0m\u001b[1;33m\u001b[0m\u001b[0m\n\u001b[0;32m   3362\u001b[0m             \u001b[1;32mexcept\u001b[0m \u001b[0mKeyError\u001b[0m \u001b[1;32mas\u001b[0m \u001b[0merr\u001b[0m\u001b[1;33m:\u001b[0m\u001b[1;33m\u001b[0m\u001b[1;33m\u001b[0m\u001b[0m\n\u001b[1;32m-> 3363\u001b[1;33m                 \u001b[1;32mraise\u001b[0m \u001b[0mKeyError\u001b[0m\u001b[1;33m(\u001b[0m\u001b[0mkey\u001b[0m\u001b[1;33m)\u001b[0m \u001b[1;32mfrom\u001b[0m \u001b[0merr\u001b[0m\u001b[1;33m\u001b[0m\u001b[1;33m\u001b[0m\u001b[0m\n\u001b[0m\u001b[0;32m   3364\u001b[0m \u001b[1;33m\u001b[0m\u001b[0m\n\u001b[0;32m   3365\u001b[0m         \u001b[1;32mif\u001b[0m \u001b[0mis_scalar\u001b[0m\u001b[1;33m(\u001b[0m\u001b[0mkey\u001b[0m\u001b[1;33m)\u001b[0m \u001b[1;32mand\u001b[0m \u001b[0misna\u001b[0m\u001b[1;33m(\u001b[0m\u001b[0mkey\u001b[0m\u001b[1;33m)\u001b[0m \u001b[1;32mand\u001b[0m \u001b[1;32mnot\u001b[0m \u001b[0mself\u001b[0m\u001b[1;33m.\u001b[0m\u001b[0mhasnans\u001b[0m\u001b[1;33m:\u001b[0m\u001b[1;33m\u001b[0m\u001b[1;33m\u001b[0m\u001b[0m\n",
      "\u001b[1;31mKeyError\u001b[0m: 'Corr'"
     ]
    }
   ],
   "source": [
    "# Change the value of 'Corr' to -1 if it is less than -1\n",
    "aapl.loc[aapl['Corr'] < -1, 'Corr'] = -1\n",
    "\n",
    "# Change the value of 'Corr' to 1 if it is greater than 1\n",
    "aapl.loc[aapl['Corr'] > 1, 'Corr'] = 1\n",
    "\n",
    "# Drop the NaN values\n",
    "aapl = aapl.dropna()"
   ]
  },
  {
   "cell_type": "code",
   "execution_count": null,
   "metadata": {},
   "outputs": [],
   "source": []
  }
 ],
 "metadata": {
  "interpreter": {
   "hash": "d45c50ff18cac78aae7bf66a5a1c73882e71b703b3b81b4bb77639d53244f0c7"
  },
  "kernelspec": {
   "display_name": "Python 3.9.7 64-bit ('quantra': conda)",
   "name": "python3"
  },
  "language_info": {
   "codemirror_mode": {
    "name": "ipython",
    "version": 3
   },
   "file_extension": ".py",
   "mimetype": "text/x-python",
   "name": "python",
   "nbconvert_exporter": "python",
   "pygments_lexer": "ipython3",
   "version": "3.9.7"
  },
  "orig_nbformat": 4
 },
 "nbformat": 4,
 "nbformat_minor": 2
}
